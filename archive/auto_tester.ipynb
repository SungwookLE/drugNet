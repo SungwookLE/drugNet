{
 "cells": [
  {
   "cell_type": "code",
   "execution_count": 40,
   "metadata": {},
   "outputs": [],
   "source": [
    "import random\n",
    "import os\n",
    "\n",
    "import numpy as np\n",
    "import pandas as pd\n",
    "\n",
    "from sklearn.feature_selection import VarianceThreshold\n",
    "from sklearn.model_selection import train_test_split\n",
    "\n",
    "import torch\n",
    "import torch.nn as nn\n",
    "from torch.utils.data import Dataset, DataLoader\n",
    "\n",
    "from rdkit import DataStructs\n",
    "from rdkit import Chem, DataStructs\n",
    "from rdkit.Chem import PandasTools, AllChem, Descriptors\n",
    "from rdkit.ML.Descriptors.MoleculeDescriptors import MolecularDescriptorCalculator\n",
    "\n",
    "from typing import Callable, List, Union\n",
    "\n",
    "from autogluon.tabular import TabularDataset, TabularPredictor\n",
    "import autogluon.eda.auto as auto #EDA\n",
    "from IPython.display import Image, display\n",
    " \n",
    "pd.set_option('display.max_seq_items', None)"
   ]
  },
  {
   "cell_type": "code",
   "execution_count": null,
   "metadata": {},
   "outputs": [],
   "source": [
    "\n",
    "def seed_everything(seed):\n",
    "    random.seed(seed)\n",
    "    np.random.seed(seed)\n",
    "    os.environ[\"PYTHONHASHSEED\"] = str(seed)\n",
    "    torch.manual_seed(seed)"
   ]
  },
  {
   "cell_type": "code",
   "execution_count": null,
   "metadata": {},
   "outputs": [],
   "source": [
    "seed_everything(42) # Seed 고정\n",
    "\n",
    "train_d = pd.read_csv(\"../input/train.csv\")\n",
    "test_d = pd.read_csv(\"../input/test.csv\")\n",
    "\n",
    "train_plas= pd.read_csv(\"../input/train_out.csv\")\n",
    "test_plas = pd.read_csv(\"../input/test_out.csv\")"
   ]
  },
  {
   "cell_type": "code",
   "execution_count": null,
   "metadata": {},
   "outputs": [],
   "source": [
    "#torch custom dataset 인데, 정의만 하고 사용하지 않았어요\n",
    "class CustomDataset(Dataset):\n",
    "    def __init__(self, df, target, is_test=False):\n",
    "        self.df      = df\n",
    "        self.target  = target # HLM or MLM\n",
    "        self.feature = self.df[['AlogP', 'Molecular_Weight', 'Num_H_Acceptors', 'Num_H_Donors', 'Num_RotatableBonds', 'LogD', 'Molecular_PolarSurfaceArea', 'plas']].values \n",
    "        self.label   = self.df[self.target].values\n",
    "\n",
    "        self.is_test = is_test # train,valid / test\n",
    "\n",
    "    def __getitem__(self, index):\n",
    "        feature = self.feature[index]\n",
    "        label = self.label[index]\n",
    "\n",
    "        if not self.is_test: # test가 아닌 경우(label 존재)\n",
    "            return torch.tensor(feature, dtype=torch.float), torch.tensor(label, dtype=torch.float).unsqueeze(dim=-1) # feature, label\n",
    "        else: # test인 경우\n",
    "            return torch.tensor(feature, dtype=torch.float).float() # feature\n",
    "        \n",
    "    def __len__(self):\n",
    "        return len(self.df)"
   ]
  },
  {
   "cell_type": "code",
   "execution_count": null,
   "metadata": {},
   "outputs": [],
   "source": [
    "def morgan_binary_features_generator(mol: Union[str, Chem.Mol], plot_img = False,\n",
    "                                     radius: int = 2,\n",
    "                                     num_bits: int = 32) -> np.ndarray:\n",
    "    \n",
    "    mol = Chem.MolFromSmiles(mol) if type(mol) == str else mol\n",
    "    if plot_img:\n",
    "        display(mol)\n",
    "    features_vec = AllChem.GetMorganFingerprintAsBitVect(mol, radius, nBits=num_bits)\n",
    "    features = np.zeros((1,))\n",
    "    DataStructs.ConvertToNumpyArray(features_vec, features)\n",
    "    return features"
   ]
  },
  {
   "cell_type": "code",
   "execution_count": null,
   "metadata": {},
   "outputs": [],
   "source": [
    "def makeFPsAsLongNumberStr(mol: Union[str, Chem.Mol]):\n",
    "    fps = morgan_binary_features_generator(mol)\n",
    "    return ''.join([str(int(i)) for i in fps])"
   ]
  },
  {
   "cell_type": "code",
   "execution_count": null,
   "metadata": {},
   "outputs": [],
   "source": [
    "# descriptor List\n",
    "allDescriptorList = [i[0] for i in Descriptors._descList]"
   ]
  },
  {
   "cell_type": "code",
   "execution_count": null,
   "metadata": {},
   "outputs": [],
   "source": [
    "chosen_descriptors = [  'BalabanJ', 'BertzCT', 'Chi0', 'Chi0n', 'Chi0v', 'Chi1', 'Chi1n', 'Chi1v', 'Chi2n', 'Chi2v',\n",
    "                        'EState_VSA5', 'EState_VSA6', 'EState_VSA7', 'EState_VSA8', 'EState_VSA9', 'ExactMolWt', 'FpDensityMorgan1', 'FpDensityMorgan2', 'FpDensityMorgan3', 'FractionCSP3',\n",
    "                        'HallKierAlpha', 'HeavyAtomCount', 'HeavyAtomMolWt', 'Ipc', 'Kappa1', 'Kappa2', 'Kappa3', 'LabuteASA', 'MaxAbsEStateIndex', 'MaxAbsPartialCharge',\n",
    "                        'MaxEStateIndex', 'MaxPartialCharge', 'MinAbsEStateIndex', 'MinAbsPartialCharge', 'MinEStateIndex', 'MinPartialCharge', 'MolLogP', 'MolMR', 'MolWt', 'NHOHCount',\n",
    "                        'NOCount', 'NumAliphaticCarbocycles', 'NumAliphaticHeterocycles', 'NumAliphaticRings', 'NumAromaticCarbocycles', 'NumAromaticHeterocycles', 'NumAromaticRings', 'NumHAcceptors', 'NumHDonors', 'NumHeteroatoms',\n",
    "                        'NumRadicalElectrons', 'NumRotatableBonds', 'NumSaturatedCarbocycles', 'NumSaturatedHeterocycles', 'NumSaturatedRings', 'NumValenceElectrons', 'PEOE_VSA1', 'PEOE_VSA10', 'PEOE_VSA11', 'PEOE_VSA12',\n",
    "                        'PEOE_VSA13', 'PEOE_VSA14', 'PEOE_VSA2', 'PEOE_VSA3', 'PEOE_VSA4', 'PEOE_VSA5', 'PEOE_VSA6', 'PEOE_VSA7', 'PEOE_VSA8', 'PEOE_VSA9',\n",
    "                        'RingCount', 'SMR_VSA1', 'SMR_VSA10', 'SMR_VSA2', 'SMR_VSA3', 'SMR_VSA4', 'SMR_VSA5', 'SMR_VSA6', 'SMR_VSA7', 'SMR_VSA8',\n",
    "                        'SMR_VSA9', 'SlogP_VSA1', 'SlogP_VSA10', 'SlogP_VSA11', 'SlogP_VSA12', 'SlogP_VSA2', 'SlogP_VSA3', 'SlogP_VSA4', 'SlogP_VSA5', 'SlogP_VSA6',\n",
    "                        'SlogP_VSA7', 'SlogP_VSA8', 'SlogP_VSA9', 'TPSA', 'VSA_EState1', 'VSA_EState10', 'VSA_EState2', 'VSA_EState3', 'VSA_EState4', 'VSA_EState5'\n",
    "                    ]\n",
    "\n",
    "np.float = float  # to avoid \"module 'numpy' has no attribute 'float'\"\n",
    "\n",
    "def getDescriptorValues(mol: Union[str, Chem.Mol]):\n",
    "\n",
    "    mol = Chem.MolFromSmiles(mol) if type(mol) == str else mol\n",
    "    mol_descriptor_calculator = MolecularDescriptorCalculator(chosen_descriptors)\n",
    "    # use molecular descriptor calculator on RDKit mol object\n",
    "    descriptor_vals = list(mol_descriptor_calculator.CalcDescriptors(mol))\n",
    "\n",
    "    return descriptor_vals"
   ]
  },
  {
   "cell_type": "code",
   "execution_count": null,
   "metadata": {},
   "outputs": [],
   "source": [
    "# FPs column 추가\n",
    "train_d[\"plas\"] = train_plas[\"pred_0\"]\n",
    "test_d[\"plas\"] = test_plas[\"pred_0\"]\n",
    "\n",
    "# FPS 정보 추가\n",
    "train_d[\"FPS\"]= train_d[\"SMILES\"].apply(makeFPsAsLongNumberStr)\n",
    "test_d[\"FPS\"]=  test_d[\"SMILES\"].apply(makeFPsAsLongNumberStr)\n",
    "\n",
    "# descriptor 정보 추가\n",
    "train_d[\"add\"] = train_d[\"SMILES\"].apply(lambda x: getDescriptorValues(x)) # new feautre as descriptor\n",
    "train_d[chosen_descriptors] = pd.DataFrame(train_d[\"add\"].tolist())\n",
    "train_d.drop([\"add\"], axis=1, inplace=True)\n",
    "\n",
    "test_d[\"add\"] = test_d[\"SMILES\"].apply(lambda x: getDescriptorValues(x)) # new feautre as descriptor\n",
    "test_d[chosen_descriptors] = pd.DataFrame(test_d[\"add\"].tolist())\n",
    "test_d.drop([\"add\"], axis=1, inplace=True)\n",
    "\n",
    "for key in chosen_descriptors:\n",
    "    if ( len(train_d[key].unique()) < (len(train_d)//3)):\n",
    "        print(f\"Drop the Calculated Feautre: {key}\")\n",
    "        train_d.drop([key], axis=1, inplace=True)\n",
    "        test_d.drop([key], axis=1, inplace=True)\n",
    "\n",
    "\n",
    "train_d[\"AlogP\"].fillna(value=train_d[\"AlogP\"].mean(), inplace=True)\n",
    "test_d[\"AlogP\"].fillna(value=train_d[\"AlogP\"].mean(), inplace=True)\n",
    "\n",
    "train_d.fillna(value=0, inplace=True)\n",
    "test_d.fillna(value=0, inplace=True)\n",
    "\n",
    "\n",
    "print(train_d.head(3))\n",
    "print(test_d.head(3))"
   ]
  },
  {
   "cell_type": "code",
   "execution_count": null,
   "metadata": {},
   "outputs": [],
   "source": [
    "print(f\"train colums: {len(train_d.columns)}\")\n",
    "print(f\"test colums: {len(test_d.columns)}\")\n",
    "\n",
    "\n",
    "# Show Sampled Mol from SMILES data\n",
    "print(f\"Tester to FPs: {morgan_binary_features_generator(train_d['SMILES'][0], True)}\")\n",
    "print(f\"Unique len: {train_d['FPS'].unique().shape[0]} / {train_d.shape[0]}\")"
   ]
  },
  {
   "cell_type": "code",
   "execution_count": null,
   "metadata": {},
   "outputs": [],
   "source": [
    "train_d.isna().sum(), test_d.isna().sum()"
   ]
  },
  {
   "cell_type": "code",
   "execution_count": null,
   "metadata": {},
   "outputs": [],
   "source": [
    "# 사용할 column만 추출\n",
    "train_MLM = TabularDataset(train_d.drop(['id', \"HLM\"], axis=1))\n",
    "train_HLM = TabularDataset(train_d.drop(['id', \"MLM\"], axis=1))\n",
    "test = TabularDataset(test_d.drop([\"id\"], axis=1))"
   ]
  },
  {
   "cell_type": "code",
   "execution_count": null,
   "metadata": {},
   "outputs": [],
   "source": [
    "# EDA\n",
    "state = auto.quick_fit(\n",
    "    train_d, \n",
    "    \"MLM\", \n",
    "    return_state=True,\n",
    "    fit_bagging_folds=3,\n",
    "    show_feature_importance_barplots=True\n",
    ")"
   ]
  },
  {
   "cell_type": "code",
   "execution_count": null,
   "metadata": {},
   "outputs": [],
   "source": [
    "auto.explain_rows(\n",
    "    train_data=train_d,\n",
    "    model=state.model,\n",
    "    display_rows=True,\n",
    "    rows=state.model_evaluation.highest_error[:1]\n",
    ")"
   ]
  },
  {
   "cell_type": "code",
   "execution_count": null,
   "metadata": {},
   "outputs": [],
   "source": [
    "state = auto.quick_fit(\n",
    "    train_HLM, \n",
    "    \"HLM\", \n",
    "    return_state=True,\n",
    "    show_feature_importance_barplots=True\n",
    ")"
   ]
  },
  {
   "cell_type": "code",
   "execution_count": null,
   "metadata": {},
   "outputs": [],
   "source": [
    "predictor_MLM = TabularPredictor(label='MLM', eval_metric='root_mean_squared_error', verbosity=False).fit(train_MLM)\n",
    "predictor_HLM = TabularPredictor(label='HLM', eval_metric='root_mean_squared_error', verbosity=False).fit(train_HLM)\n",
    "\n",
    "ld_board_MLM = predictor_MLM.leaderboard(train_MLM, silent=True)\n",
    "print(\"=\"*20, \"MLM\", \"=\"*20)\n",
    "print(ld_board_MLM)\n",
    "print(f\"Best: {predictor_MLM.get_model_best()}\")\n",
    "\n",
    "ld_board_HLM = predictor_HLM.leaderboard(train_HLM, silent=True)\n",
    "print(\"=\"*20, \"HLM\", \"=\"*20)\n",
    "print(ld_board_HLM)\n",
    "print(f\"Best: {predictor_HLM.get_model_best()}\")"
   ]
  },
  {
   "cell_type": "code",
   "execution_count": null,
   "metadata": {},
   "outputs": [],
   "source": [
    "path_to_png=predictor_MLM.plot_ensemble_model()\n",
    "display(Image(filename=path_to_png))\n",
    "path_to_png=predictor_HLM.plot_ensemble_model()\n",
    "display(Image(filename=path_to_png))"
   ]
  },
  {
   "cell_type": "markdown",
   "metadata": {},
   "source": [
    "---"
   ]
  },
  {
   "cell_type": "code",
   "execution_count": null,
   "metadata": {},
   "outputs": [],
   "source": [
    "#### TESTING"
   ]
  },
  {
   "cell_type": "code",
   "execution_count": null,
   "metadata": {},
   "outputs": [],
   "source": [
    "# 결과파일 작성\n",
    "pred_MLM = predictor_MLM.predict(test)\n",
    "pred_HLM = predictor_HLM.predict(test)\n",
    "\n",
    "submission = pd.DataFrame()\n",
    "submission[\"id\"] = test_d[\"id\"]\n",
    "submission[\"MLM\"] = pred_MLM\n",
    "submission[\"HLM\"] = pred_HLM\n",
    "\n",
    "submission.to_csv(\"../output/submission.csv\", index=False)"
   ]
  },
  {
   "cell_type": "code",
   "execution_count": null,
   "metadata": {},
   "outputs": [],
   "source": [
    "# check before sub\n",
    "submission.isna().sum()"
   ]
  },
  {
   "cell_type": "code",
   "execution_count": null,
   "metadata": {},
   "outputs": [],
   "source": []
  },
  {
   "cell_type": "code",
   "execution_count": null,
   "metadata": {},
   "outputs": [],
   "source": []
  },
  {
   "cell_type": "code",
   "execution_count": null,
   "metadata": {},
   "outputs": [],
   "source": []
  },
  {
   "cell_type": "code",
   "execution_count": null,
   "metadata": {},
   "outputs": [],
   "source": []
  },
  {
   "cell_type": "code",
   "execution_count": null,
   "metadata": {},
   "outputs": [],
   "source": []
  },
  {
   "cell_type": "code",
   "execution_count": null,
   "metadata": {},
   "outputs": [],
   "source": []
  },
  {
   "cell_type": "code",
   "execution_count": null,
   "metadata": {},
   "outputs": [],
   "source": []
  },
  {
   "cell_type": "code",
   "execution_count": null,
   "metadata": {},
   "outputs": [],
   "source": []
  },
  {
   "cell_type": "code",
   "execution_count": null,
   "metadata": {},
   "outputs": [],
   "source": []
  },
  {
   "cell_type": "code",
   "execution_count": null,
   "metadata": {},
   "outputs": [],
   "source": []
  }
 ],
 "metadata": {
  "kernelspec": {
   "display_name": "smils",
   "language": "python",
   "name": "python3"
  },
  "language_info": {
   "codemirror_mode": {
    "name": "ipython",
    "version": 3
   },
   "file_extension": ".py",
   "mimetype": "text/x-python",
   "name": "python",
   "nbconvert_exporter": "python",
   "pygments_lexer": "ipython3",
   "version": "3.10.12"
  },
  "orig_nbformat": 4
 },
 "nbformat": 4,
 "nbformat_minor": 2
}
