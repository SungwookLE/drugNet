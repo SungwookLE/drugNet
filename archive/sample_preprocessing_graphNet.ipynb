{
  "cells": [
    {
      "cell_type": "code",
      "execution_count": null,
      "metadata": {
        "id": "FVkyskRSiQci"
      },
      "outputs": [],
      "source": [
        "!pip install rdkit dgl"
      ]
    },
    {
      "cell_type": "code",
      "execution_count": null,
      "metadata": {
        "id": "KiANHxMu_vOG"
      },
      "outputs": [],
      "source": [
        "import pandas as pd\n",
        "from rdkit import Chem\n",
        "\n",
        "import dgl\n",
        "import dgl.function as fn\n",
        "\n",
        "import torch\n",
        "import torch.nn as nn\n",
        "import torch.nn.functional as F\n",
        "from torch.utils.data import Dataset, DataLoader\n",
        "\n",
        "import time, math\n",
        "from sklearn.model_selection import train_test_split\n",
        "from sklearn.metrics import mean_squared_error, r2_score"
      ]
    },
    {
      "cell_type": "code",
      "execution_count": null,
      "metadata": {
        "id": "ft4kRumBAqHT"
      },
      "outputs": [],
      "source": [
        "train_df = pd.read_csv('train.csv')\n",
        "test_df = pd.read_csv('test.csv')"
      ]
    },
    {
      "cell_type": "code",
      "execution_count": null,
      "metadata": {
        "id": "2hdr9hYkA5T9"
      },
      "outputs": [],
      "source": [
        "ATOM_VOCAB = [\n",
        "\t'C', 'N', 'O', 'S', 'F',\n",
        "\t'H', 'Si', 'P', 'Cl', 'Br',\n",
        "\t'Li', 'Na', 'K', 'Mg', 'Ca',\n",
        "\t'Fe', 'As', 'Al', 'I', 'B',\n",
        "\t'V', 'Tl', 'Sb', 'Sn', 'Ag',\n",
        "\t'Pd', 'Co', 'Se', 'Ti', 'Zn',\n",
        "\t'Ge', 'Cu', 'Au', 'Ni', 'Cd',\n",
        "\t'Mn', 'Cr', 'Pt', 'Hg', 'Pb'\n",
        "]\n",
        "\n",
        "def one_of_k_encoding(x, vocab):\n",
        "  if x not in vocab:\n",
        "    x = vocab[-1]\n",
        "  return list(map(lambda s: float(x==s), vocab))\n",
        "\n",
        "def get_atom_feature(atom):\n",
        "\tatom_feature = one_of_k_encoding(atom.GetSymbol(), ATOM_VOCAB)   #c면 [1,0,0,0,....] n이면[0,1,0,0,0,.....]\n",
        "\tatom_feature += one_of_k_encoding(atom.GetDegree(), [0, 1, 2, 3, 4, 5]) #다리가 몇갠지\n",
        "\tatom_feature += one_of_k_encoding(atom.GetTotalNumHs(), [0, 1, 2, 3, 4])\n",
        "\tatom_feature += one_of_k_encoding(atom.GetImplicitValence(), [0, 1, 2, 3, 4, 5])\n",
        "\tatom_feature += [atom.GetIsAromatic()]\n",
        "\treturn atom_feature\n",
        "\n",
        "def get_bond_feature(bond):\n",
        "  bt = bond.GetBondType()\n",
        "  bond_feature = [\n",
        "      bt == Chem.rdchem.BondType.SINGLE,\n",
        "      bt == Chem.rdchem.BondType.DOUBLE,\n",
        "      bt == Chem.rdchem.BondType.TRIPLE,\n",
        "      bt == Chem.rdchem.BondType.AROMATIC,\n",
        "      bond.GetIsConjugated(),  #결합체인가\n",
        "      bond.IsInRing()           #링안에 있는지\n",
        "  ]\n",
        "  return bond_feature"
      ]
    },
    {
      "cell_type": "code",
      "execution_count": null,
      "metadata": {
        "id": "peUfCPj3BA40"
      },
      "outputs": [],
      "source": [
        "def get_molecular_graph(smi):\n",
        "  mol = Chem.MolFromSmiles(smi)\n",
        "  graph = dgl.DGLGraph()\n",
        "\n",
        "  atom_list = mol.GetAtoms()\n",
        "  num_atoms = len(atom_list)\n",
        "  graph.add_nodes(num_atoms)\n",
        "\n",
        "  atom_feature_list = [get_atom_feature(atom) for atom in atom_list]\n",
        "  atom_feature_list = torch.tensor(atom_feature_list, dtype=torch.float64)\n",
        "  graph.ndata['h'] = atom_feature_list\n",
        "\n",
        "  bond_list = mol.GetBonds()\n",
        "  bond_feature_list = []\n",
        "  for bond in bond_list:\n",
        "    bond_feature = get_bond_feature(bond)\n",
        "\n",
        "    src = bond.GetBeginAtom().GetIdx() #엣지 시작점\n",
        "    dst = bond.GetEndAtom().GetIdx()   #끝점\n",
        "\n",
        "    ## DGL 그래프는 방향성이 없어\n",
        "    ## 쌍으로 줘야함\n",
        "    # i --> j\n",
        "    graph.add_edges(src, dst)\n",
        "    bond_feature_list.append(bond_feature)\n",
        "    # j --> i\n",
        "    graph.add_edges(dst, src)\n",
        "    bond_feature_list.append(bond_feature)\n",
        "\n",
        "  bond_feature_list = torch.tensor(bond_feature_list, dtype = torch.float64)\n",
        "  graph.edata['e_ij'] = bond_feature_list\n",
        "  return graph"
      ]
    },
    {
      "cell_type": "code",
      "execution_count": null,
      "metadata": {
        "id": "4BnOmHJ6BGEv"
      },
      "outputs": [],
      "source": [
        "class MyDataset(Dataset):\n",
        "  def __init__(self, df, hlm=True, test=False):\n",
        "    self.smi_list = list(df['SMILES'])\n",
        "    self.hlm_list = list(df['HLM'])\n",
        "    self.mlm_list = list(df['MLM'])\n",
        "    self.hlm = hlm\n",
        "  def __len__(self):\n",
        "    return len(self.smi_list)\n",
        "\n",
        "  def __getitem__(self, idx):\n",
        "    if self.hlm == True:\n",
        "      return self.smi_list[idx], self.hlm_list[idx]\n",
        "    elif self.hlm == False:\n",
        "      return self.smi_list[idx], self.mlm_list[idx]\n",
        "    elif self.test == True:\n",
        "      return self.smi_list[idx]"
      ]
    },
    {
      "cell_type": "code",
      "execution_count": null,
      "metadata": {
        "id": "4_Zm8V3pB5rg"
      },
      "outputs": [],
      "source": [
        "def my_collate_fn(batch):\n",
        "\tgraph_list = []\n",
        "\tlabel_list = []\n",
        "\tfor item in batch:\n",
        "\t\tsmi = item[0]\n",
        "\t\tlabel = item[1]\n",
        "\t\tgraph = get_molecular_graph(smi)\n",
        "\t\tgraph_list.append(graph)\n",
        "\t\tlabel_list.append(label)\n",
        "\tgraph_list = dgl.batch(graph_list)\n",
        "\tlabel_list = torch.tensor(label_list, dtype=torch.float64)\n",
        "\treturn graph_list, label_list"
      ]
    },
    {
      "cell_type": "code",
      "execution_count": null,
      "metadata": {
        "id": "f_4eRGIkCGHu"
      },
      "outputs": [],
      "source": [
        "x_train, x_test= train_test_split(train_df, test_size = 0.2, random_state=42)"
      ]
    },
    {
      "cell_type": "code",
      "execution_count": null,
      "metadata": {
        "id": "bqlj1ZOzCIxu"
      },
      "outputs": [],
      "source": [
        "train_hlm_set = MyDataset(x_train)\n",
        "train_mlm_set = MyDataset(x_train,hlm=False)\n",
        "test_hlm_set = MyDataset(x_test)\n",
        "test_mlm_set = MyDataset(x_test,hlm=False)"
      ]
    },
    {
      "cell_type": "code",
      "execution_count": null,
      "metadata": {
        "id": "VBwCUb_FCRt5"
      },
      "outputs": [],
      "source": [
        "train_hlm_loader = DataLoader(dataset = train_hlm_set, batch_size=16, shuffle=True, collate_fn = my_collate_fn)\n",
        "test_hlm_loader = DataLoader(dataset = test_hlm_set, batch_size=16, shuffle=False, collate_fn = my_collate_fn)\n",
        "train_mlm_loader = DataLoader(dataset = train_mlm_set, batch_size=16, shuffle=True, collate_fn = my_collate_fn)\n",
        "test_mlm_loader = DataLoader(dataset = test_mlm_set, batch_size=16, shuffle=False, collate_fn = my_collate_fn)"
      ]
    },
    {
      "cell_type": "code",
      "execution_count": null,
      "metadata": {
        "id": "GaWfuXfNCiuH"
      },
      "outputs": [],
      "source": [
        "def evaluate_regression(\n",
        "\t\ty_list,\n",
        "\t\tpred_list,\n",
        "\t):\n",
        "\ty_list = torch.cat(y_list, dim=0).detach().cpu().numpy()\n",
        "\tpred_list = torch.cat(pred_list, dim=0).detach().cpu().numpy()\n",
        "\n",
        "\tmse = mean_squared_error(y_list, pred_list)\n",
        "\trmse = math.sqrt(mse)\n",
        "\tr2 = r2_score(y_list, pred_list)\n",
        "\treturn mse, rmse, r2"
      ]
    },
    {
      "cell_type": "code",
      "execution_count": null,
      "metadata": {
        "id": "8WcOivHZCY9y"
      },
      "outputs": [],
      "source": [
        "class MLP(nn.Module):\n",
        "\tdef __init__(\n",
        "\t\tself,\n",
        "\t\tinput_dim,\n",
        "\t\thidden_dim,\n",
        "\t\toutput_dim,\n",
        "\t\tbias=True,\n",
        "\t\tact=F.relu,\n",
        "\t):\n",
        "\t\tsuper().__init__()\n",
        "\n",
        "\t\tself.input_dim = input_dim\n",
        "\t\tself.hidden_dim = hidden_dim\n",
        "\t\tself.output_dim = output_dim\n",
        "\n",
        "\t\tself.act = act\n",
        "\n",
        "\t\tself.linear1 = nn.Linear(input_dim, hidden_dim, bias=bias)\n",
        "\t\tself.linear2 = nn.Linear(hidden_dim, output_dim, bias=bias)\n",
        "\n",
        "\tdef forward(self, h):\n",
        "\t\th = self.linear1(h)\n",
        "\t\th = self.act(h)\n",
        "\t\th = self.linear2(h)\n",
        "\t\treturn h\n",
        "\n",
        "class GraphConvolution(nn.Module):\n",
        "  def __init__(self,hidden_dim=64,act=F.relu,dropout_prob=0.2):\n",
        "    super().__init__()\n",
        "    self.mlp = MLP(input_dim= hidden_dim, hidden_dim= 4*hidden_dim, output_dim=hidden_dim)\n",
        "    self.norm = nn.LayerNorm(hidden_dim)\n",
        "    self.prob = dropout_prob\n",
        "  def forward(self, graph):\n",
        "    h0 = graph.ndata['h']\n",
        "    graph.update_all(fn.copy_u('h', 'm'), fn.sum('m', 'u_'))\n",
        "    h = self.mlp(graph.ndata['u_']) + h0\n",
        "    h = self.norm(h)\n",
        "\n",
        "    h = F.dropout(h, p= self.prob)\n",
        "\n",
        "    graph.ndata['h'] = h\n",
        "    return graph\n",
        "\n",
        "class MyModel(nn.Module):\n",
        "  def __init__(self, num_layers=4, hidden_dim=64, dropout_prob=0.2, readout='sum', act=F.relu, initial_node_dim=58, initial_edge_dim=6):\n",
        "    super().__init__()\n",
        "    self.num_layers = num_layers\n",
        "    self.embedding_node = nn.Linear(initial_node_dim, hidden_dim, bias=False)\n",
        "    self.embedding_edge = nn.Linear(initial_edge_dim, hidden_dim, bias=False)\n",
        "    self.readout = readout\n",
        "\n",
        "    self.mp_layers = torch.nn.ModuleList()\n",
        "\n",
        "    for _ in range(self.num_layers):\n",
        "      mp_layer = None\n",
        "      mp_layer = GraphConvolution()\n",
        "      self.mp_layers.append(mp_layer)\n",
        "\n",
        "    self.linear_out = nn.Linear(hidden_dim, 1, bias=False)\n",
        "\n",
        "  def forward(self, graph):\n",
        "    h = self.embedding_node(graph.ndata['h'].float())\n",
        "    e_ij = self.embedding_edge(graph.edata['e_ij'].float())\n",
        "    graph.ndata['h'] = h\n",
        "    graph.edata['e_ij'] = e_ij\n",
        "\n",
        "    for i in range(self.num_layers):\n",
        "      graph = self.mp_layers[i](graph=graph)\n",
        "\n",
        "    out = dgl.readout_nodes(graph, 'h', op=self.readout)\n",
        "    out = self.linear_out(out)\n",
        "    return out"
      ]
    },
    {
      "cell_type": "code",
      "execution_count": null,
      "metadata": {
        "id": "Pj0OOm8iD5y_"
      },
      "outputs": [],
      "source": [
        "# device = torch.device('cuda' if torch.cuda.is_available() else 'cpu')\n",
        "device = 'cpu'"
      ]
    },
    {
      "cell_type": "code",
      "execution_count": null,
      "metadata": {
        "id": "8-NZfieJD4SP"
      },
      "outputs": [],
      "source": [
        "def train(train_loader, test_loader, model, num_epoches=100):\n",
        "  # model = MyModel()\n",
        "  model = model.to(device)\n",
        "  optimizer = torch.optim.AdamW(\n",
        "    model.parameters(),\n",
        "    lr=0.0001,\n",
        "    weight_decay=0.0,\n",
        "  )\n",
        "  scheduler = torch.optim.lr_scheduler.StepLR(\n",
        "    optimizer=optimizer,\n",
        "    step_size=40,\n",
        "    gamma=0.1,\n",
        "  )\n",
        "  mse_loss = nn.MSELoss()\n",
        "  for epoch in range(num_epoches):\n",
        "  # Train\n",
        "    model.train()\n",
        "    num_batches = len(train_loader)\n",
        "    train_loss = 0\n",
        "    y_list = []\n",
        "    pred_list = []\n",
        "    for i, batch in enumerate(train_loader):\n",
        "      st = time.time()\n",
        "      optimizer.zero_grad()\n",
        "      graph, y = batch[0], batch[1]\n",
        "      graph = graph.to(device)\n",
        "      y = y.to(device)\n",
        "      y = y.float()\n",
        "      pred = model(graph).squeeze()\n",
        "      y_list.append(y)\n",
        "      pred_list.append(pred)\n",
        "\n",
        "      loss = mse_loss(pred, y)\n",
        "      loss.backward()\n",
        "      optimizer.step()\n",
        "\n",
        "      train_loss += loss.detach().cpu().numpy()\n",
        "\n",
        "      et = time.time()\n",
        "      print (\"Train!!! Epoch:\", epoch+1, \\\n",
        "            \"\\t Batch:\", i+1, '/', num_batches, \\\n",
        "            \"\\t Loss:\", loss.detach().cpu().numpy(), \\\n",
        "            \"\\t Time spent:\", round(et-st, 2), \"(s)\")\n",
        "    scheduler.step()\n",
        "    train_loss /= num_batches\n",
        "    train_metrics = evaluate_regression(\n",
        "      y_list=y_list,\n",
        "      pred_list=pred_list\n",
        "    )\n",
        "\n",
        "    model.eval()\n",
        "    with torch.no_grad():\n",
        "      # Validation\n",
        "      valid_loss = 0\n",
        "      num_batches = len(test_loader)\n",
        "      y_list = []\n",
        "      pred_list = []\n",
        "      for i, batch in enumerate(test_loader):\n",
        "        st = time.time()\n",
        "\n",
        "        graph, y = batch[0], batch[1]\n",
        "        graph = graph.to(device)\n",
        "        y = y.to(device)\n",
        "        y = y.float()\n",
        "\n",
        "        pred = model(graph).squeeze()\n",
        "        y_list.append(y)\n",
        "        pred_list.append(pred)\n",
        "\n",
        "        loss = mse_loss(pred, y)\n",
        "        valid_loss += loss.detach().cpu().numpy()\n",
        "\n",
        "        et = time.time()\n",
        "        print (\"Valid!!! Epoch:\", epoch+1, \\\n",
        "              \"\\t Batch:\", i+1, '/', num_batches, \\\n",
        "              \"\\t Loss:\", loss.detach().cpu().numpy(), \\\n",
        "                \"\\t Time spent:\", round(et-st, 2), \"(s)\")\n",
        "      valid_loss /= num_batches\n",
        "      valid_metrics = evaluate_regression(\n",
        "        y_list=y_list,\n",
        "        pred_list=pred_list\n",
        "      )\n",
        "    # torch.save(model,'./model.pt')\n",
        "    # print('save!!!!!!!!!!!!!!!!!!!')\n",
        "\n",
        "    print (\"End of \", epoch+1, \"-th epoch\", \\\n",
        "          \"mse:\", round(train_metrics[0], 3), \"\\t\", round(valid_metrics[0], 3), \\\n",
        "          \"rmse:\", round(train_metrics[1], 3), \"\\t\", round(valid_metrics[1], 3), \\\n",
        "          \"r2:\", round(train_metrics[2], 3), \"\\t\", round(valid_metrics[2], 3))\n",
        "  return model"
      ]
    },
    {
      "cell_type": "code",
      "execution_count": null,
      "metadata": {
        "id": "yMHqvMX7Ezgd"
      },
      "outputs": [],
      "source": [
        "model_MLM=MyModel()\n",
        "model_HLM=MyModel()"
      ]
    },
    {
      "cell_type": "code",
      "execution_count": null,
      "metadata": {
        "id": "emgU5VDAFJi6"
      },
      "outputs": [],
      "source": [
        "print(\"Training Start: HLM\")\n",
        "model_HLM = train(train_hlm_loader, test_hlm_loader, model_HLM)\n",
        "print(\"Training Start: MLM\")\n",
        "model_MLM = train(train_mlm_loader, test_mlm_loader, model_MLM)"
      ]
    },
    {
      "cell_type": "code",
      "execution_count": null,
      "metadata": {
        "id": "sy7hSmcGFK5M"
      },
      "outputs": [],
      "source": [
        "test = pd.read_csv('test.csv')"
      ]
    },
    {
      "cell_type": "code",
      "execution_count": null,
      "metadata": {
        "id": "5UbJcIkM31Hq"
      },
      "outputs": [],
      "source": [
        "class MyDataset_1(Dataset):\n",
        "  def __init__(self, df):\n",
        "    self.smi_list = list(df['SMILES'])\n",
        "  def __len__(self):\n",
        "    return len(self.smi_list)\n",
        "\n",
        "  def __getitem__(self, idx):\n",
        "    return self.smi_list[idx]"
      ]
    },
    {
      "cell_type": "code",
      "execution_count": null,
      "metadata": {
        "id": "cbgsS1kD6IT6"
      },
      "outputs": [],
      "source": [
        "def test_collate_fn(batch):\n",
        "\tgraph_list = []\n",
        "\tfor item in batch:\n",
        "\t\tsmi = item\n",
        "\t\tgraph = get_molecular_graph(smi)\n",
        "\t\tgraph_list.append(graph)\n",
        "\tgraph_list = dgl.batch(graph_list)\n",
        "\treturn graph_list"
      ]
    },
    {
      "cell_type": "code",
      "execution_count": null,
      "metadata": {
        "id": "weiDsW8p8NHP"
      },
      "outputs": [],
      "source": [
        "data_set = MyDataset_1(test)"
      ]
    },
    {
      "cell_type": "code",
      "execution_count": null,
      "metadata": {
        "id": "_vNHVTZR4yk2"
      },
      "outputs": [],
      "source": [
        "hlm_data = test_collate_fn(data_set)\n",
        "mlm_data = test_collate_fn(data_set)"
      ]
    },
    {
      "cell_type": "code",
      "execution_count": null,
      "metadata": {
        "id": "K5_wYKuI4TQI"
      },
      "outputs": [],
      "source": [
        "model_MLM.eval()\n",
        "mlm = model_MLM(mlm_data)\n",
        "model_HLM.eval()\n",
        "hlm = model_HLM(hlm_data)"
      ]
    },
    {
      "cell_type": "code",
      "execution_count": null,
      "metadata": {
        "id": "nxts6s6t4gpU"
      },
      "outputs": [],
      "source": [
        "mlm_list = []\n",
        "for i in mlm:\n",
        "  result = float(i)\n",
        "  mlm_list.append(round(result,2))\n",
        "hlm_list = []\n",
        "for i in hlm:\n",
        "  result = float(i)\n",
        "  hlm_list.append(round(result,2))"
      ]
    },
    {
      "cell_type": "code",
      "execution_count": null,
      "metadata": {
        "id": "5enYqqAU7hzr"
      },
      "outputs": [],
      "source": [
        "submit = pd.read_csv('sample_submission.csv')\n",
        "submit['MLM'] = mlm_list\n",
        "submit['HLM'] = hlm_list\n",
        "submit.to_csv('sub.csv',encoding='utf-8-sig',index=False)"
      ]
    }
  ],
  "metadata": {
    "accelerator": "GPU",
    "colab": {
      "gpuType": "T4",
      "machine_shape": "hm",
      "private_outputs": true,
      "provenance": []
    },
    "kernelspec": {
      "display_name": "Python 3",
      "name": "python3"
    },
    "language_info": {
      "name": "python",
      "version": "3.10.12"
    }
  },
  "nbformat": 4,
  "nbformat_minor": 0
}
