{
  "cells": [
    {
      "cell_type": "code",
      "execution_count": 2,
      "metadata": {
        "id": "ZR5qZNqUQVEP"
      },
      "outputs": [],
      "source": [
        "import pandas as pd\n",
        "from rdkit import Chem\n",
        "from rdkit.Chem import Descriptors\n",
        "import numpy as np"
      ]
    },
    {
      "cell_type": "code",
      "execution_count": 3,
      "metadata": {
        "id": "IwCBd9TfX7Od"
      },
      "outputs": [],
      "source": [
        "def getMolDescriptors(mol, missingVal=None):\n",
        "    ''' calculate the full list of descriptors for a molecule\n",
        "\n",
        "        missingVal is used if the descriptor cannot be calculated\n",
        "    '''\n",
        "    res = {}\n",
        "    for nm,fn in Descriptors._descList:\n",
        "        # some of the descriptor fucntions can throw errors if they fail, catch those here:\n",
        "        try:\n",
        "            val = fn(mol)\n",
        "        except:\n",
        "            # print the error message:\n",
        "            import traceback\n",
        "            traceback.print_exc()\n",
        "            # and set the descriptor value to whatever missingVal is\n",
        "            val = missingVal\n",
        "        res[nm] = val\n",
        "    return res"
      ]
    },
    {
      "cell_type": "code",
      "execution_count": 4,
      "metadata": {
        "id": "vPP0gC28YU5m"
      },
      "outputs": [],
      "source": [
        "#데이터 로드 & 결측치 처리\n",
        "train = pd.read_csv('../input/train.csv')\n",
        "train['AlogP'] = np.where(pd.isna(train['AlogP']), train['LogD'], train['AlogP'])\n",
        "test = pd.read_csv('../input/test.csv')\n",
        "test['AlogP'] = np.where(pd.isna(test['AlogP']), test['LogD'], test['LogD'])"
      ]
    },
    {
      "cell_type": "code",
      "execution_count": 5,
      "metadata": {
        "id": "YIMsVUh2Y4xM"
      },
      "outputs": [],
      "source": [
        "train['Molecule'] = train['SMILES'].apply(Chem.MolFromSmiles)\n",
        "test['Molecule'] = test['SMILES'].apply(Chem.MolFromSmiles)"
      ]
    },
    {
      "cell_type": "code",
      "execution_count": 6,
      "metadata": {
        "id": "ViOu8MsHaARM"
      },
      "outputs": [],
      "source": [
        "train.drop_duplicates(['SMILES'], keep=False, inplace=True)\n",
        "train.reset_index(drop=True,inplace=True)"
      ]
    },
    {
      "cell_type": "code",
      "execution_count": 7,
      "metadata": {
        "id": "4YcFi-N3ZPa4"
      },
      "outputs": [],
      "source": [
        "train_dsc = [getMolDescriptors(mol) for mol in train['Molecule']]\n",
        "test_dsc = [getMolDescriptors(mol) for mol in test['Molecule']]"
      ]
    },
    {
      "cell_type": "code",
      "execution_count": 8,
      "metadata": {
        "id": "q1Ggk4_fbIA-"
      },
      "outputs": [],
      "source": [
        "# drop_col = ['AlogP', 'Molecule', 'MolWt', 'NumHAcceptors', 'NumHDonors', 'NumRotatableBonds', 'MolLogP']\n",
        "# drop_col = ['AlogP','Molecule','Molecular_Weight','Num_H_Acceptors','Num_H_Donors','Num_RotatableBonds','MolLogP']\n",
        "drop_col = ['AlogP','Molecule','Molecular_Weight','Num_H_Acceptors','Num_H_Donors','Num_RotatableBonds']"
      ]
    },
    {
      "cell_type": "code",
      "execution_count": 9,
      "metadata": {
        "id": "5DtoF5jca2vg"
      },
      "outputs": [],
      "source": [
        "train_dsc = pd.DataFrame(train_dsc)\n",
        "test_dsc = pd.DataFrame(test_dsc)"
      ]
    },
    {
      "cell_type": "code",
      "execution_count": 10,
      "metadata": {
        "id": "9O-MVKAfi_vm"
      },
      "outputs": [],
      "source": [
        "train_data = pd.concat([train, train_dsc], axis=1)\n",
        "test_data = pd.concat([test, test_dsc], axis=1)"
      ]
    },
    {
      "cell_type": "code",
      "execution_count": 11,
      "metadata": {
        "colab": {
          "base_uri": "https://localhost:8080/",
          "height": 196
        },
        "id": "kEgt-XcV4Ztt",
        "outputId": "4e6e865d-9c05-44ce-d287-268992e47115"
      },
      "outputs": [
        {
          "data": {
            "text/html": [
              "<div>\n",
              "<style scoped>\n",
              "    .dataframe tbody tr th:only-of-type {\n",
              "        vertical-align: middle;\n",
              "    }\n",
              "\n",
              "    .dataframe tbody tr th {\n",
              "        vertical-align: top;\n",
              "    }\n",
              "\n",
              "    .dataframe thead th {\n",
              "        text-align: right;\n",
              "    }\n",
              "</style>\n",
              "<table border=\"1\" class=\"dataframe\">\n",
              "  <thead>\n",
              "    <tr style=\"text-align: right;\">\n",
              "      <th></th>\n",
              "      <th>id</th>\n",
              "      <th>SMILES</th>\n",
              "      <th>MLM</th>\n",
              "      <th>HLM</th>\n",
              "      <th>AlogP</th>\n",
              "      <th>Molecular_Weight</th>\n",
              "      <th>Num_H_Acceptors</th>\n",
              "      <th>Num_H_Donors</th>\n",
              "      <th>Num_RotatableBonds</th>\n",
              "      <th>LogD</th>\n",
              "      <th>...</th>\n",
              "      <th>fr_sulfide</th>\n",
              "      <th>fr_sulfonamd</th>\n",
              "      <th>fr_sulfone</th>\n",
              "      <th>fr_term_acetylene</th>\n",
              "      <th>fr_tetrazole</th>\n",
              "      <th>fr_thiazole</th>\n",
              "      <th>fr_thiocyan</th>\n",
              "      <th>fr_thiophene</th>\n",
              "      <th>fr_unbrch_alkane</th>\n",
              "      <th>fr_urea</th>\n",
              "    </tr>\n",
              "  </thead>\n",
              "  <tbody>\n",
              "    <tr>\n",
              "      <th>986</th>\n",
              "      <td>TRAIN_1000</td>\n",
              "      <td>O=c1c2ccccc2[se]n1-c1ccc(S(=O)(=O)Nc2ccccn2)cc1</td>\n",
              "      <td>31.223</td>\n",
              "      <td>43.963</td>\n",
              "      <td>3.103</td>\n",
              "      <td>430.339</td>\n",
              "      <td>4</td>\n",
              "      <td>1</td>\n",
              "      <td>4</td>\n",
              "      <td>3.126</td>\n",
              "      <td>...</td>\n",
              "      <td>0</td>\n",
              "      <td>1</td>\n",
              "      <td>0</td>\n",
              "      <td>0</td>\n",
              "      <td>0</td>\n",
              "      <td>0</td>\n",
              "      <td>0</td>\n",
              "      <td>0</td>\n",
              "      <td>0</td>\n",
              "      <td>0</td>\n",
              "    </tr>\n",
              "    <tr>\n",
              "      <th>1380</th>\n",
              "      <td>TRAIN_1399</td>\n",
              "      <td>Brc1cnc2n[se]nc2c1</td>\n",
              "      <td>91.192</td>\n",
              "      <td>99.900</td>\n",
              "      <td>1.820</td>\n",
              "      <td>262.953</td>\n",
              "      <td>3</td>\n",
              "      <td>0</td>\n",
              "      <td>0</td>\n",
              "      <td>1.820</td>\n",
              "      <td>...</td>\n",
              "      <td>0</td>\n",
              "      <td>0</td>\n",
              "      <td>0</td>\n",
              "      <td>0</td>\n",
              "      <td>0</td>\n",
              "      <td>0</td>\n",
              "      <td>0</td>\n",
              "      <td>0</td>\n",
              "      <td>0</td>\n",
              "      <td>0</td>\n",
              "    </tr>\n",
              "  </tbody>\n",
              "</table>\n",
              "<p>2 rows × 221 columns</p>\n",
              "</div>"
            ],
            "text/plain": [
              "              id                                           SMILES     MLM  \\\n",
              "986   TRAIN_1000  O=c1c2ccccc2[se]n1-c1ccc(S(=O)(=O)Nc2ccccn2)cc1  31.223   \n",
              "1380  TRAIN_1399                               Brc1cnc2n[se]nc2c1  91.192   \n",
              "\n",
              "         HLM  AlogP  Molecular_Weight  Num_H_Acceptors  Num_H_Donors  \\\n",
              "986   43.963  3.103           430.339                4             1   \n",
              "1380  99.900  1.820           262.953                3             0   \n",
              "\n",
              "      Num_RotatableBonds   LogD  ...  fr_sulfide fr_sulfonamd  fr_sulfone  \\\n",
              "986                    4  3.126  ...           0            1           0   \n",
              "1380                   0  1.820  ...           0            0           0   \n",
              "\n",
              "      fr_term_acetylene  fr_tetrazole  fr_thiazole  fr_thiocyan  fr_thiophene  \\\n",
              "986                   0             0            0            0             0   \n",
              "1380                  0             0            0            0             0   \n",
              "\n",
              "      fr_unbrch_alkane  fr_urea  \n",
              "986                  0        0  \n",
              "1380                 0        0  \n",
              "\n",
              "[2 rows x 221 columns]"
            ]
          },
          "execution_count": 11,
          "metadata": {},
          "output_type": "execute_result"
        }
      ],
      "source": [
        "train_data[train_data.isnull().any(axis=1)]"
      ]
    },
    {
      "cell_type": "code",
      "execution_count": 12,
      "metadata": {
        "id": "54Le4DDS3yds"
      },
      "outputs": [],
      "source": [
        "train_data = train_data.dropna(axis=0).reset_index(drop=True)"
      ]
    },
    {
      "cell_type": "code",
      "execution_count": 13,
      "metadata": {
        "id": "aWBT5R9Rkl9y"
      },
      "outputs": [],
      "source": [
        "from sklearn.model_selection import train_test_split\n",
        "from sklearn.preprocessing import MinMaxScaler"
      ]
    },
    {
      "cell_type": "code",
      "execution_count": 14,
      "metadata": {
        "id": "0jaKwoFUk3m2"
      },
      "outputs": [],
      "source": [
        "scaler = MinMaxScaler()\n",
        "col = ['id','SMILES', 'MLM','HLM','Molecule']\n",
        "col_list = [colum for colum in train_data.columns if colum not in col]"
      ]
    },
    {
      "cell_type": "code",
      "execution_count": 15,
      "metadata": {
        "id": "QmoRnpjIlw0u"
      },
      "outputs": [],
      "source": [
        "train_data[col_list] = scaler.fit_transform(train_data[col_list])\n",
        "test_data[col_list] = scaler.transform(test_data[col_list])"
      ]
    },
    {
      "cell_type": "code",
      "execution_count": 16,
      "metadata": {
        "id": "fXakauw_m2fa"
      },
      "outputs": [],
      "source": [
        "drop_col = ['id','SMILES','Molecule','AlogP','Molecule','Molecular_Weight','Num_H_Acceptors','Num_H_Donors','Num_RotatableBonds']\n",
        "target = ['HLM','MLM']"
      ]
    },
    {
      "cell_type": "markdown",
      "metadata": {},
      "source": [
        "---\n",
        "Split out the code: taking the pre-processed dataframe"
      ]
    },
    {
      "cell_type": "code",
      "execution_count": 22,
      "metadata": {},
      "outputs": [
        {
          "data": {
            "text/plain": [
              "(483, 219)"
            ]
          },
          "execution_count": 22,
          "metadata": {},
          "output_type": "execute_result"
        }
      ],
      "source": [
        "test_data.shape"
      ]
    },
    {
      "cell_type": "code",
      "execution_count": 21,
      "metadata": {},
      "outputs": [],
      "source": [
        "train_data.to_csv(\"../input/train_descriptor.csv\", index=False)\n",
        "test_data.to_csv(\"../input/test_descriptor.csv\", index=False)\n"
      ]
    },
    {
      "cell_type": "code",
      "execution_count": 38,
      "metadata": {
        "id": "7tHX10rzlx0e"
      },
      "outputs": [],
      "source": [
        "HLM = train_data['HLM']\n",
        "MLM = train_data['MLM']\n",
        "train_df = train_data.drop(columns = drop_col,axis = 1 )\n",
        "train_df = train_df.drop(columns = target, axis = 1)\n",
        "test_df = test_data.drop(columns = drop_col, axis = 1)"
      ]
    },
    {
      "cell_type": "code",
      "execution_count": 82,
      "metadata": {
        "id": "RD1uKP-XmU9Y"
      },
      "outputs": [],
      "source": [
        "from torch.utils.data import Dataset, DataLoader\n",
        "import torch\n",
        "class CustomDataset(Dataset):\n",
        "  def __init__(self, df, target=None, is_test=False):\n",
        "    self.df = df\n",
        "    self.is_test = is_test\n",
        "    if not self.is_test:\n",
        "      self.target = target\n",
        "    self.features = self.df.values\n",
        "  def __len__(self):\n",
        "    return len(self.df)\n",
        "\n",
        "  def __getitem__(self, idx):\n",
        "    ft = self.features[idx]\n",
        "    if not self.is_test:\n",
        "      label = self.target[idx]\n",
        "      return torch.tensor(ft).float(), torch.tensor(label).float().unsqueeze(dim=-1)\n",
        "    else:\n",
        "      return torch.tensor(ft).float()"
      ]
    },
    {
      "cell_type": "code",
      "execution_count": 83,
      "metadata": {
        "id": "2698BcLZnalU"
      },
      "outputs": [],
      "source": [
        "train_HLM = CustomDataset(train_df, HLM)\n",
        "train_MLM = CustomDataset(train_df, MLM)"
      ]
    },
    {
      "cell_type": "code",
      "execution_count": 119,
      "metadata": {
        "id": "QR-yi_RJYqRx"
      },
      "outputs": [],
      "source": [
        "test_HLM = CustomDataset(df = test_df,target=None,is_test=True)\n",
        "test_MLM = CustomDataset(df = test_df,target=None,is_test=True)\n",
        "test_HLM_loader = DataLoader(dataset=test_HLM,batch_size=64,shuffle=False)\n",
        "test_MLM_loader = DataLoader(dataset=test_MLM,batch_size=64,shuffle=False)"
      ]
    },
    {
      "cell_type": "code",
      "execution_count": 120,
      "metadata": {
        "id": "4jHHSriTuNdg"
      },
      "outputs": [],
      "source": [
        "train_HLM_dataset, valid_HLM_dataset = train_test_split(train_HLM, test_size=0.2, random_state=42)\n",
        "train_MLM_dataset, valid_MLM_dataset = train_test_split(train_MLM, test_size=0.2, random_state=42)"
      ]
    },
    {
      "cell_type": "code",
      "execution_count": 139,
      "metadata": {
        "id": "eIi3ZEpJuNyl"
      },
      "outputs": [],
      "source": [
        "train_HLM_loader = DataLoader(dataset=train_HLM_dataset, batch_size = 256,shuffle=True)\n",
        "valid_HLM_loader = DataLoader(dataset=valid_HLM_dataset, batch_size = 256,shuffle=False)\n",
        "\n",
        "train_MLM_loader = DataLoader(dataset=train_MLM_dataset, batch_size = 256,shuffle=True)\n",
        "valid_MLM_loader = DataLoader(dataset=valid_MLM_dataset, batch_size = 256,shuffle=False)"
      ]
    },
    {
      "cell_type": "code",
      "execution_count": 130,
      "metadata": {
        "id": "lbU3uJmb8s5M"
      },
      "outputs": [],
      "source": [
        "input_size = train_HLM.features.shape[1]"
      ]
    },
    {
      "cell_type": "code",
      "execution_count": 131,
      "metadata": {
        "colab": {
          "base_uri": "https://localhost:8080/"
        },
        "id": "aMIhYL-U9e5L",
        "outputId": "e7c7450b-2431-4762-98df-3126fa7a5214"
      },
      "outputs": [
        {
          "data": {
            "text/plain": [
              "2753"
            ]
          },
          "execution_count": 131,
          "metadata": {},
          "output_type": "execute_result"
        }
      ],
      "source": [
        "len(train_HLM_dataset)"
      ]
    },
    {
      "cell_type": "code",
      "execution_count": 73,
      "metadata": {
        "id": "HlLxyoCz4rST"
      },
      "outputs": [],
      "source": [
        "import torch.nn as nn\n",
        "import torch.optim as optim"
      ]
    },
    {
      "cell_type": "code",
      "execution_count": 124,
      "metadata": {
        "id": "-cccF9Is2970"
      },
      "outputs": [],
      "source": [
        "class LinModel(nn.Module):\n",
        "  def __init__(self, input_size, dropout_rate):\n",
        "    super(LinModel, self).__init__()\n",
        "\n",
        "    self.fc1 = nn.Sequential(\n",
        "        nn.Linear(input_size, 256),\n",
        "        nn.ReLU(),\n",
        "        nn.BatchNorm1d(256),\n",
        "        nn.Dropout(dropout_rate)\n",
        "    )\n",
        "    self.fc2 = nn.Sequential(\n",
        "        nn.Linear(256, 1024),\n",
        "        nn.ReLU(),\n",
        "        nn.BatchNorm1d(1024),\n",
        "        nn.Dropout(dropout_rate)\n",
        "    )\n",
        "    self.fc3 = nn.Sequential(\n",
        "        nn.Linear(1024,512),\n",
        "        nn.ReLU(),\n",
        "        nn.BatchNorm1d(512),\n",
        "        nn.Dropout(dropout_rate)\n",
        "    )\n",
        "    self.fc4 = nn.Sequential(\n",
        "        nn.Linear(512, 256),\n",
        "        nn.ReLU(),\n",
        "        nn.BatchNorm1d(256),\n",
        "        nn.Dropout(dropout_rate)\n",
        "    )\n",
        "    self.fc5 = nn.Sequential(\n",
        "        nn.Linear(256, 128),\n",
        "        nn.ReLU(),\n",
        "        nn.BatchNorm1d(128)\n",
        "    )\n",
        "\n",
        "    self.out = nn.Linear(128,1)\n",
        "\n",
        "  def forward(self, x):\n",
        "    x = self.fc1(x)\n",
        "    x = self.fc2(x)\n",
        "    x = self.fc3(x)\n",
        "    x = self.fc4(x)\n",
        "    x = self.fc5(x)\n",
        "    x = self.out(x)\n",
        "    return x"
      ]
    },
    {
      "cell_type": "code",
      "execution_count": 143,
      "metadata": {
        "id": "j4zCHxfq8pHE"
      },
      "outputs": [],
      "source": [
        "model_HLM = LinModel(input_size, 0.2)\n",
        "model_MLM = LinModel(input_size, 0.2)"
      ]
    },
    {
      "cell_type": "code",
      "execution_count": 144,
      "metadata": {
        "id": "XTM_Mtfj8ceJ"
      },
      "outputs": [],
      "source": [
        "criterion = nn.MSELoss()\n",
        "optimizer_HLM = optim.AdamW(model_HLM.parameters(), lr=0.001)\n",
        "optimizer_MLM = optim.AdamW(model_MLM.parameters(), lr=0.001)"
      ]
    },
    {
      "cell_type": "code",
      "execution_count": 145,
      "metadata": {
        "id": "UkhdQxZh8OrR"
      },
      "outputs": [],
      "source": [
        "def train(train_loader, valid_loader, model, criterion, optimizer, epochs):\n",
        "    model.train()\n",
        "\n",
        "    for epoch in range(epochs):\n",
        "        running_loss = 0\n",
        "        for inputs, targets in train_loader:\n",
        "            optimizer.zero_grad()\n",
        "            output = model(inputs)\n",
        "            loss = criterion(output, targets)\n",
        "\n",
        "            loss.backward()\n",
        "            optimizer.step()\n",
        "\n",
        "            running_loss += loss.item()\n",
        "\n",
        "        if epoch % 100 == 0:\n",
        "            valid_loss = 0\n",
        "            with torch.no_grad():\n",
        "                for inputs, targets in valid_loader:\n",
        "                    output = model(inputs)\n",
        "                    loss = criterion(output, targets)\n",
        "                    valid_loss += loss.item()\n",
        "\n",
        "            print(f'Epoch: {epoch}/{epochs}, Train Loss: {running_loss/len(train_loader)}, Valid Loss: {valid_loss/len(valid_loader)}')\n",
        "            model.train()\n",
        "\n",
        "    return model"
      ]
    },
    {
      "cell_type": "code",
      "execution_count": 146,
      "metadata": {
        "colab": {
          "base_uri": "https://localhost:8080/"
        },
        "id": "FPIvOkRuVIKF",
        "outputId": "b15f77e2-5a00-41ae-ccb7-ef51639e1047"
      },
      "outputs": [
        {
          "name": "stdout",
          "output_type": "stream",
          "text": [
            "Training Start: HLM\n",
            "Epoch: 0/500, Train Loss: 4045.017156427557, Valid Loss: 4118.683430989583\n",
            "Epoch: 100/500, Train Loss: 87.5599198774858, Valid Loss: 1558.084716796875\n",
            "Epoch: 200/500, Train Loss: 66.6342228976163, Valid Loss: 1567.322021484375\n",
            "Epoch: 300/500, Train Loss: 46.59217036854137, Valid Loss: 1614.1225179036458\n",
            "Epoch: 400/500, Train Loss: 39.507639451460406, Valid Loss: 1646.2931722005208\n",
            "Training Start: MLM\n",
            "Epoch: 0/500, Train Loss: 2575.7985617897725, Valid Loss: 2702.2242024739585\n",
            "Epoch: 100/500, Train Loss: 66.58714017001066, Valid Loss: 1505.1709391276042\n",
            "Epoch: 200/500, Train Loss: 58.14421254938299, Valid Loss: 1503.3934326171875\n",
            "Epoch: 300/500, Train Loss: 45.88111530650746, Valid Loss: 1436.4686279296875\n",
            "Epoch: 400/500, Train Loss: 38.449436534534804, Valid Loss: 1556.6769612630208\n"
          ]
        }
      ],
      "source": [
        "print(\"Training Start: HLM\")\n",
        "model_HLM = train(train_HLM_loader, valid_HLM_loader, model_HLM, criterion, optimizer_HLM, epochs=500)\n",
        "print(\"Training Start: MLM\")\n",
        "model_MLM = train(train_MLM_loader, valid_MLM_loader, model_MLM, criterion, optimizer_MLM, epochs=500)"
      ]
    },
    {
      "cell_type": "code",
      "execution_count": 147,
      "metadata": {
        "id": "1lLMg3iSVWW6"
      },
      "outputs": [],
      "source": [
        "def inference(test_loader, model):\n",
        "    model.eval()\n",
        "    preds = []\n",
        "\n",
        "    with torch.no_grad():\n",
        "        for inputs in test_loader:\n",
        "            output = model(inputs)\n",
        "            preds.extend(output.cpu().numpy().flatten().tolist())\n",
        "\n",
        "    return preds"
      ]
    },
    {
      "cell_type": "code",
      "execution_count": 148,
      "metadata": {
        "id": "RK20wVX4VYRx"
      },
      "outputs": [],
      "source": [
        "predictions_MLM = inference(test_MLM_loader,model_MLM)\n",
        "predictions_HLM = inference(test_HLM_loader,model_HLM)"
      ]
    },
    {
      "cell_type": "code",
      "execution_count": 149,
      "metadata": {
        "colab": {
          "base_uri": "https://localhost:8080/",
          "height": 424
        },
        "id": "nR9ECRh3Zv7l",
        "outputId": "a12821f5-6f30-4f4a-b1d9-3a45b874dbb0"
      },
      "outputs": [
        {
          "data": {
            "text/html": [
              "\n",
              "  <div id=\"df-3e23f0ac-ca96-4713-8156-f51c4aa9a629\" class=\"colab-df-container\">\n",
              "    <div>\n",
              "<style scoped>\n",
              "    .dataframe tbody tr th:only-of-type {\n",
              "        vertical-align: middle;\n",
              "    }\n",
              "\n",
              "    .dataframe tbody tr th {\n",
              "        vertical-align: top;\n",
              "    }\n",
              "\n",
              "    .dataframe thead th {\n",
              "        text-align: right;\n",
              "    }\n",
              "</style>\n",
              "<table border=\"1\" class=\"dataframe\">\n",
              "  <thead>\n",
              "    <tr style=\"text-align: right;\">\n",
              "      <th></th>\n",
              "      <th>id</th>\n",
              "      <th>MLM</th>\n",
              "      <th>HLM</th>\n",
              "    </tr>\n",
              "  </thead>\n",
              "  <tbody>\n",
              "    <tr>\n",
              "      <th>0</th>\n",
              "      <td>TEST_000</td>\n",
              "      <td>7.978578</td>\n",
              "      <td>57.683105</td>\n",
              "    </tr>\n",
              "    <tr>\n",
              "      <th>1</th>\n",
              "      <td>TEST_001</td>\n",
              "      <td>62.255535</td>\n",
              "      <td>80.932808</td>\n",
              "    </tr>\n",
              "    <tr>\n",
              "      <th>2</th>\n",
              "      <td>TEST_002</td>\n",
              "      <td>30.180443</td>\n",
              "      <td>37.984024</td>\n",
              "    </tr>\n",
              "    <tr>\n",
              "      <th>3</th>\n",
              "      <td>TEST_003</td>\n",
              "      <td>78.276054</td>\n",
              "      <td>95.201408</td>\n",
              "    </tr>\n",
              "    <tr>\n",
              "      <th>4</th>\n",
              "      <td>TEST_004</td>\n",
              "      <td>82.833420</td>\n",
              "      <td>42.715679</td>\n",
              "    </tr>\n",
              "    <tr>\n",
              "      <th>...</th>\n",
              "      <td>...</td>\n",
              "      <td>...</td>\n",
              "      <td>...</td>\n",
              "    </tr>\n",
              "    <tr>\n",
              "      <th>478</th>\n",
              "      <td>TEST_478</td>\n",
              "      <td>15.161558</td>\n",
              "      <td>6.189603</td>\n",
              "    </tr>\n",
              "    <tr>\n",
              "      <th>479</th>\n",
              "      <td>TEST_479</td>\n",
              "      <td>94.719543</td>\n",
              "      <td>87.633453</td>\n",
              "    </tr>\n",
              "    <tr>\n",
              "      <th>480</th>\n",
              "      <td>TEST_480</td>\n",
              "      <td>14.936805</td>\n",
              "      <td>46.551128</td>\n",
              "    </tr>\n",
              "    <tr>\n",
              "      <th>481</th>\n",
              "      <td>TEST_481</td>\n",
              "      <td>2.495585</td>\n",
              "      <td>91.809273</td>\n",
              "    </tr>\n",
              "    <tr>\n",
              "      <th>482</th>\n",
              "      <td>TEST_482</td>\n",
              "      <td>2.601420</td>\n",
              "      <td>57.526783</td>\n",
              "    </tr>\n",
              "  </tbody>\n",
              "</table>\n",
              "<p>483 rows × 3 columns</p>\n",
              "</div>\n",
              "    <div class=\"colab-df-buttons\">\n",
              "\n",
              "  <div class=\"colab-df-container\">\n",
              "    <button class=\"colab-df-convert\" onclick=\"convertToInteractive('df-3e23f0ac-ca96-4713-8156-f51c4aa9a629')\"\n",
              "            title=\"Convert this dataframe to an interactive table.\"\n",
              "            style=\"display:none;\">\n",
              "\n",
              "  <svg xmlns=\"http://www.w3.org/2000/svg\" height=\"24px\" viewBox=\"0 -960 960 960\">\n",
              "    <path d=\"M120-120v-720h720v720H120Zm60-500h600v-160H180v160Zm220 220h160v-160H400v160Zm0 220h160v-160H400v160ZM180-400h160v-160H180v160Zm440 0h160v-160H620v160ZM180-180h160v-160H180v160Zm440 0h160v-160H620v160Z\"/>\n",
              "  </svg>\n",
              "    </button>\n",
              "\n",
              "  <style>\n",
              "    .colab-df-container {\n",
              "      display:flex;\n",
              "      gap: 12px;\n",
              "    }\n",
              "\n",
              "    .colab-df-convert {\n",
              "      background-color: #E8F0FE;\n",
              "      border: none;\n",
              "      border-radius: 50%;\n",
              "      cursor: pointer;\n",
              "      display: none;\n",
              "      fill: #1967D2;\n",
              "      height: 32px;\n",
              "      padding: 0 0 0 0;\n",
              "      width: 32px;\n",
              "    }\n",
              "\n",
              "    .colab-df-convert:hover {\n",
              "      background-color: #E2EBFA;\n",
              "      box-shadow: 0px 1px 2px rgba(60, 64, 67, 0.3), 0px 1px 3px 1px rgba(60, 64, 67, 0.15);\n",
              "      fill: #174EA6;\n",
              "    }\n",
              "\n",
              "    .colab-df-buttons div {\n",
              "      margin-bottom: 4px;\n",
              "    }\n",
              "\n",
              "    [theme=dark] .colab-df-convert {\n",
              "      background-color: #3B4455;\n",
              "      fill: #D2E3FC;\n",
              "    }\n",
              "\n",
              "    [theme=dark] .colab-df-convert:hover {\n",
              "      background-color: #434B5C;\n",
              "      box-shadow: 0px 1px 3px 1px rgba(0, 0, 0, 0.15);\n",
              "      filter: drop-shadow(0px 1px 2px rgba(0, 0, 0, 0.3));\n",
              "      fill: #FFFFFF;\n",
              "    }\n",
              "  </style>\n",
              "\n",
              "    <script>\n",
              "      const buttonEl =\n",
              "        document.querySelector('#df-3e23f0ac-ca96-4713-8156-f51c4aa9a629 button.colab-df-convert');\n",
              "      buttonEl.style.display =\n",
              "        google.colab.kernel.accessAllowed ? 'block' : 'none';\n",
              "\n",
              "      async function convertToInteractive(key) {\n",
              "        const element = document.querySelector('#df-3e23f0ac-ca96-4713-8156-f51c4aa9a629');\n",
              "        const dataTable =\n",
              "          await google.colab.kernel.invokeFunction('convertToInteractive',\n",
              "                                                    [key], {});\n",
              "        if (!dataTable) return;\n",
              "\n",
              "        const docLinkHtml = 'Like what you see? Visit the ' +\n",
              "          '<a target=\"_blank\" href=https://colab.research.google.com/notebooks/data_table.ipynb>data table notebook</a>'\n",
              "          + ' to learn more about interactive tables.';\n",
              "        element.innerHTML = '';\n",
              "        dataTable['output_type'] = 'display_data';\n",
              "        await google.colab.output.renderOutput(dataTable, element);\n",
              "        const docLink = document.createElement('div');\n",
              "        docLink.innerHTML = docLinkHtml;\n",
              "        element.appendChild(docLink);\n",
              "      }\n",
              "    </script>\n",
              "  </div>\n",
              "\n",
              "\n",
              "<div id=\"df-75904a21-0ef3-4bd6-8c1c-fea173f09c81\">\n",
              "  <button class=\"colab-df-quickchart\" onclick=\"quickchart('df-75904a21-0ef3-4bd6-8c1c-fea173f09c81')\"\n",
              "            title=\"Suggest charts.\"\n",
              "            style=\"display:none;\">\n",
              "\n",
              "<svg xmlns=\"http://www.w3.org/2000/svg\" height=\"24px\"viewBox=\"0 0 24 24\"\n",
              "     width=\"24px\">\n",
              "    <g>\n",
              "        <path d=\"M19 3H5c-1.1 0-2 .9-2 2v14c0 1.1.9 2 2 2h14c1.1 0 2-.9 2-2V5c0-1.1-.9-2-2-2zM9 17H7v-7h2v7zm4 0h-2V7h2v10zm4 0h-2v-4h2v4z\"/>\n",
              "    </g>\n",
              "</svg>\n",
              "  </button>\n",
              "\n",
              "<style>\n",
              "  .colab-df-quickchart {\n",
              "      --bg-color: #E8F0FE;\n",
              "      --fill-color: #1967D2;\n",
              "      --hover-bg-color: #E2EBFA;\n",
              "      --hover-fill-color: #174EA6;\n",
              "      --disabled-fill-color: #AAA;\n",
              "      --disabled-bg-color: #DDD;\n",
              "  }\n",
              "\n",
              "  [theme=dark] .colab-df-quickchart {\n",
              "      --bg-color: #3B4455;\n",
              "      --fill-color: #D2E3FC;\n",
              "      --hover-bg-color: #434B5C;\n",
              "      --hover-fill-color: #FFFFFF;\n",
              "      --disabled-bg-color: #3B4455;\n",
              "      --disabled-fill-color: #666;\n",
              "  }\n",
              "\n",
              "  .colab-df-quickchart {\n",
              "    background-color: var(--bg-color);\n",
              "    border: none;\n",
              "    border-radius: 50%;\n",
              "    cursor: pointer;\n",
              "    display: none;\n",
              "    fill: var(--fill-color);\n",
              "    height: 32px;\n",
              "    padding: 0;\n",
              "    width: 32px;\n",
              "  }\n",
              "\n",
              "  .colab-df-quickchart:hover {\n",
              "    background-color: var(--hover-bg-color);\n",
              "    box-shadow: 0 1px 2px rgba(60, 64, 67, 0.3), 0 1px 3px 1px rgba(60, 64, 67, 0.15);\n",
              "    fill: var(--button-hover-fill-color);\n",
              "  }\n",
              "\n",
              "  .colab-df-quickchart-complete:disabled,\n",
              "  .colab-df-quickchart-complete:disabled:hover {\n",
              "    background-color: var(--disabled-bg-color);\n",
              "    fill: var(--disabled-fill-color);\n",
              "    box-shadow: none;\n",
              "  }\n",
              "\n",
              "  .colab-df-spinner {\n",
              "    border: 2px solid var(--fill-color);\n",
              "    border-color: transparent;\n",
              "    border-bottom-color: var(--fill-color);\n",
              "    animation:\n",
              "      spin 1s steps(1) infinite;\n",
              "  }\n",
              "\n",
              "  @keyframes spin {\n",
              "    0% {\n",
              "      border-color: transparent;\n",
              "      border-bottom-color: var(--fill-color);\n",
              "      border-left-color: var(--fill-color);\n",
              "    }\n",
              "    20% {\n",
              "      border-color: transparent;\n",
              "      border-left-color: var(--fill-color);\n",
              "      border-top-color: var(--fill-color);\n",
              "    }\n",
              "    30% {\n",
              "      border-color: transparent;\n",
              "      border-left-color: var(--fill-color);\n",
              "      border-top-color: var(--fill-color);\n",
              "      border-right-color: var(--fill-color);\n",
              "    }\n",
              "    40% {\n",
              "      border-color: transparent;\n",
              "      border-right-color: var(--fill-color);\n",
              "      border-top-color: var(--fill-color);\n",
              "    }\n",
              "    60% {\n",
              "      border-color: transparent;\n",
              "      border-right-color: var(--fill-color);\n",
              "    }\n",
              "    80% {\n",
              "      border-color: transparent;\n",
              "      border-right-color: var(--fill-color);\n",
              "      border-bottom-color: var(--fill-color);\n",
              "    }\n",
              "    90% {\n",
              "      border-color: transparent;\n",
              "      border-bottom-color: var(--fill-color);\n",
              "    }\n",
              "  }\n",
              "</style>\n",
              "\n",
              "  <script>\n",
              "    async function quickchart(key) {\n",
              "      const quickchartButtonEl =\n",
              "        document.querySelector('#' + key + ' button');\n",
              "      quickchartButtonEl.disabled = true;  // To prevent multiple clicks.\n",
              "      quickchartButtonEl.classList.add('colab-df-spinner');\n",
              "      try {\n",
              "        const charts = await google.colab.kernel.invokeFunction(\n",
              "            'suggestCharts', [key], {});\n",
              "      } catch (error) {\n",
              "        console.error('Error during call to suggestCharts:', error);\n",
              "      }\n",
              "      quickchartButtonEl.classList.remove('colab-df-spinner');\n",
              "      quickchartButtonEl.classList.add('colab-df-quickchart-complete');\n",
              "    }\n",
              "    (() => {\n",
              "      let quickchartButtonEl =\n",
              "        document.querySelector('#df-75904a21-0ef3-4bd6-8c1c-fea173f09c81 button');\n",
              "      quickchartButtonEl.style.display =\n",
              "        google.colab.kernel.accessAllowed ? 'block' : 'none';\n",
              "    })();\n",
              "  </script>\n",
              "</div>\n",
              "    </div>\n",
              "  </div>\n"
            ],
            "text/plain": [
              "           id        MLM        HLM\n",
              "0    TEST_000   7.978578  57.683105\n",
              "1    TEST_001  62.255535  80.932808\n",
              "2    TEST_002  30.180443  37.984024\n",
              "3    TEST_003  78.276054  95.201408\n",
              "4    TEST_004  82.833420  42.715679\n",
              "..        ...        ...        ...\n",
              "478  TEST_478  15.161558   6.189603\n",
              "479  TEST_479  94.719543  87.633453\n",
              "480  TEST_480  14.936805  46.551128\n",
              "481  TEST_481   2.495585  91.809273\n",
              "482  TEST_482   2.601420  57.526783\n",
              "\n",
              "[483 rows x 3 columns]"
            ]
          },
          "execution_count": 149,
          "metadata": {},
          "output_type": "execute_result"
        }
      ],
      "source": [
        "submission = pd.read_csv('./sample_submission.csv')\n",
        "submission['MLM'] = predictions_MLM\n",
        "submission['HLM'] = predictions_HLM\n",
        "submission"
      ]
    }
  ],
  "metadata": {
    "accelerator": "GPU",
    "colab": {
      "gpuType": "T4",
      "provenance": []
    },
    "kernelspec": {
      "display_name": "Python 3",
      "name": "python3"
    },
    "language_info": {
      "codemirror_mode": {
        "name": "ipython",
        "version": 3
      },
      "file_extension": ".py",
      "mimetype": "text/x-python",
      "name": "python",
      "nbconvert_exporter": "python",
      "pygments_lexer": "ipython3",
      "version": "3.10.12"
    }
  },
  "nbformat": 4,
  "nbformat_minor": 0
}
