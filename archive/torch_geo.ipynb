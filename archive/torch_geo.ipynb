{
 "cells": [
  {
   "cell_type": "code",
   "execution_count": null,
   "metadata": {},
   "outputs": [],
   "source": [
    "import random\n",
    "import numpy as np\n",
    "import torch\n",
    "from rdkit import Chem\n",
    "\n",
    "\n",
    "# for reproducability\n",
    "rd_seed = 42\n",
    "\n",
    "torch.manual_seed(rd_seed)\n",
    "np.random.seed(rd_seed)\n",
    "random.seed(rd_seed)\n",
    "\n",
    "torch.backends.cudnn.deterministic = True\n",
    "torch.backends.cudnn.benchmark = False"
   ]
  },
  {
   "cell_type": "code",
   "execution_count": null,
   "metadata": {},
   "outputs": [],
   "source": [
    "import pandas as pd\n",
    "train_df = pd.read_csv(\"../input/train.csv\")\n",
    "train_df.head()"
   ]
  },
  {
   "cell_type": "code",
   "execution_count": null,
   "metadata": {},
   "outputs": [],
   "source": [
    "train_df.info()"
   ]
  },
  {
   "cell_type": "code",
   "execution_count": null,
   "metadata": {},
   "outputs": [],
   "source": [
    "mol = Chem.MolFromSmiles(train_df['SMILES'][1000])\n",
    "mol"
   ]
  },
  {
   "cell_type": "markdown",
   "metadata": {},
   "source": [
    "---\n"
   ]
  },
  {
   "cell_type": "code",
   "execution_count": null,
   "metadata": {},
   "outputs": [],
   "source": [
    "from pytorch_tabnet.tab_network import AttentiveTransformer, FeatTransformer\n",
    "import torch.nn.functional as F\n",
    "from torch_geometric.nn import GCNConv\n",
    "from torch_geometric.nn import global_mean_pool\n",
    "import torch.nn as nn"
   ]
  },
  {
   "cell_type": "code",
   "execution_count": null,
   "metadata": {},
   "outputs": [],
   "source": [
    "from tqdm.notebook import tqdm\n",
    "from torch.utils.data import Dataset\n",
    "from torch_geometric.loader import DataLoader\n",
    "from torch_geometric.utils import from_smiles # Converts a SMILES string to a torch_geometric.data.Data instance."
   ]
  },
  {
   "cell_type": "code",
   "execution_count": null,
   "metadata": {},
   "outputs": [],
   "source": [
    "class GraphFeature(nn.Module):\n",
    "    def __init__(self, node_feat, embed_dim):\n",
    "        super(GraphFeature, self).__init__()\n",
    "\n",
    "        self.conv_l1 = GCNConv(node_feat, 8)\n",
    "        self.conv_l2 = GCNConv(8, 16)\n",
    "        self.embedding = nn.Linear(16, embed_dim)\n",
    "\n",
    "    def forward(self, x, edge_idx, batch):\n",
    "        x = F.elu(self.conv_l1(x, edge_idx))\n",
    "        x = F.elu(self.conv_l2(x, edge_idx))\n",
    "        x = global_mean_pool(x, batch) # read-out layer\n",
    "\n",
    "        x = self.embedding(x)\n",
    "        return x"
   ]
  },
  {
   "cell_type": "code",
   "execution_count": null,
   "metadata": {},
   "outputs": [],
   "source": [
    "class GraphNet(nn.Module):\n",
    "    def __init__(self, graph_dict, num_heads, reg_emb, drop_ratio, out_dim):\n",
    "\n",
    "        self.device = \"cuda\" if torch.cuda.is_available() else \"cpu\"\n",
    "        self.graph_feature = GraphFeature(graph_dict[\"node_feat\"], graph_dict[\"embed_dim\"])\n",
    "\n",
    "        self.attn_layer = nn.MultiheadAttention(graph_dict[\"embed_dim\"], num_heads, dropout=drop_ratio)\n",
    "\n",
    "        self.regressor = nn.Sequential( nn.Linear(graph_dict[\"embed_dim\"] , reg_emb),\n",
    "                                        nn.BatchNorm1d(reg_emb),\n",
    "                                        nn.ELU(),\n",
    "                                        nn.Dropout(p=drop_ratio),\n",
    "                                        nn.Linear(reg_emb, reg_emb),\n",
    "                                        nn.ELU(),\n",
    "                                        nn.Dropout(p=drop_ratio),\n",
    "                                        nn.Linear(reg_emb, out_dim))\n",
    "        \n",
    "    def forward(self, node_attr, edge_idx, batch):\n",
    "        graph_feat = self.graph_feature(node_attr, edge_idx, batch)\n",
    "        graph_feat.to(self.device)\n",
    "\n",
    "        attn_output = self.attn_layer(graph_feat, graph_feat)\n",
    "        attn_output = attn_output[0]\n",
    "\n",
    "        res = self.regressor(attn_output)\n",
    "        return res  "
   ]
  },
  {
   "cell_type": "code",
   "execution_count": null,
   "metadata": {},
   "outputs": [],
   "source": [
    "class MultiDataset(Dataset):\n",
    "    def __init__(self, dataFrame):\n",
    "        super(MultiDataset, self).__init__()\n",
    "\n",
    "        self.train_df = dataFrame\n",
    "        self.train_df.fillna(0, inplace=True)\n",
    "        self.graph_list = self.smiles2mol(train_df[\"SMILES\"])\n",
    "\n",
    "        self.target_mlm = torch.tensor(self.train_df[\"MLM\"].values.astype(np.float32))\n",
    "        self.target_hlm = torch.tensor(self.train_df[\"HLM\"].values.astype(np.float32))\n",
    "\n",
    "        self.wo_smiles_df = self.train_df.drop(columns=[\"SMILES\", \"id\", \"MLM\", \"HLM\"], axis=1)\n",
    "        self.wo_smiles_df = torch.tensor(self.wo_smiles_df.values.astype(np.float32))\n",
    "\n",
    "    \n",
    "    def smiles2mol(self, smiles_list):\n",
    "        print('Convert \"SMILES\" data to mol')\n",
    "\n",
    "        graph_list = []\n",
    "        for smiles in tqdm(smiles_list):\n",
    "            graph_data = from_smiles(smiles)\n",
    "\n",
    "            graph_data.smiles = None\n",
    "            graph_data.edge_attr = None\n",
    "\n",
    "            graph_list.append(graph_data)\n",
    "\n",
    "        print('Complete!')\n",
    "        return graph_list\n",
    "    \n",
    "    def __getitem__(self, idx):\n",
    "        return self.graph_list[idx], self.wo_smiles_df[idx], self.target_mlm[idx], self.target_hlm[idx]\n",
    "    \n",
    "    def __len__(self):\n",
    "        return len(self.graph_list)\n"
   ]
  },
  {
   "cell_type": "code",
   "execution_count": null,
   "metadata": {},
   "outputs": [],
   "source": [
    "train_dataset = MultiDataset(train_df)\n",
    "train_dataloader = DataLoader(train_dataset, batch_size=128)"
   ]
  },
  {
   "cell_type": "code",
   "execution_count": null,
   "metadata": {},
   "outputs": [],
   "source": []
  }
 ],
 "metadata": {
  "kernelspec": {
   "display_name": "smils",
   "language": "python",
   "name": "python3"
  },
  "language_info": {
   "codemirror_mode": {
    "name": "ipython",
    "version": 3
   },
   "file_extension": ".py",
   "mimetype": "text/x-python",
   "name": "python",
   "nbconvert_exporter": "python",
   "pygments_lexer": "ipython3",
   "version": "3.10.12"
  },
  "orig_nbformat": 4
 },
 "nbformat": 4,
 "nbformat_minor": 2
}
