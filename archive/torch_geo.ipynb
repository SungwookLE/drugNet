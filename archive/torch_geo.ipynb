{
 "cells": [
  {
   "cell_type": "code",
   "execution_count": 16,
   "metadata": {},
   "outputs": [],
   "source": [
    "import random\n",
    "import numpy as np\n",
    "import torch\n",
    "from rdkit import Chem\n",
    "\n",
    "\n",
    "# for reproducability\n",
    "rd_seed = 42\n",
    "\n",
    "torch.manual_seed(rd_seed)\n",
    "np.random.seed(rd_seed)\n",
    "random.seed(rd_seed)\n",
    "\n",
    "torch.backends.cudnn.deterministic = True\n",
    "torch.backends.cudnn.benchmark = False"
   ]
  },
  {
   "cell_type": "code",
   "execution_count": 17,
   "metadata": {},
   "outputs": [
    {
     "data": {
      "text/html": [
       "<div>\n",
       "<style scoped>\n",
       "    .dataframe tbody tr th:only-of-type {\n",
       "        vertical-align: middle;\n",
       "    }\n",
       "\n",
       "    .dataframe tbody tr th {\n",
       "        vertical-align: top;\n",
       "    }\n",
       "\n",
       "    .dataframe thead th {\n",
       "        text-align: right;\n",
       "    }\n",
       "</style>\n",
       "<table border=\"1\" class=\"dataframe\">\n",
       "  <thead>\n",
       "    <tr style=\"text-align: right;\">\n",
       "      <th></th>\n",
       "      <th>id</th>\n",
       "      <th>SMILES</th>\n",
       "      <th>MLM</th>\n",
       "      <th>HLM</th>\n",
       "      <th>AlogP</th>\n",
       "      <th>Molecular_Weight</th>\n",
       "      <th>Num_H_Acceptors</th>\n",
       "      <th>Num_H_Donors</th>\n",
       "      <th>Num_RotatableBonds</th>\n",
       "      <th>LogD</th>\n",
       "      <th>Molecular_PolarSurfaceArea</th>\n",
       "    </tr>\n",
       "  </thead>\n",
       "  <tbody>\n",
       "    <tr>\n",
       "      <th>0</th>\n",
       "      <td>TRAIN_0000</td>\n",
       "      <td>CCOc1ccc(CNC(=O)c2cc(-c3sc(C)nc3C)n[nH]2)cc1OCC</td>\n",
       "      <td>26.010</td>\n",
       "      <td>50.680</td>\n",
       "      <td>3.259</td>\n",
       "      <td>400.495</td>\n",
       "      <td>5</td>\n",
       "      <td>2</td>\n",
       "      <td>8</td>\n",
       "      <td>3.259</td>\n",
       "      <td>117.37</td>\n",
       "    </tr>\n",
       "    <tr>\n",
       "      <th>1</th>\n",
       "      <td>TRAIN_0001</td>\n",
       "      <td>Cc1nc(C)c(CN2CC(C)C(=O)Nc3ccccc32)s1</td>\n",
       "      <td>29.270</td>\n",
       "      <td>50.590</td>\n",
       "      <td>2.169</td>\n",
       "      <td>301.407</td>\n",
       "      <td>2</td>\n",
       "      <td>1</td>\n",
       "      <td>2</td>\n",
       "      <td>2.172</td>\n",
       "      <td>73.47</td>\n",
       "    </tr>\n",
       "    <tr>\n",
       "      <th>2</th>\n",
       "      <td>TRAIN_0002</td>\n",
       "      <td>CCCN1CCN(c2nn3nnnc3c3ccccc23)CC1</td>\n",
       "      <td>5.586</td>\n",
       "      <td>80.892</td>\n",
       "      <td>1.593</td>\n",
       "      <td>297.358</td>\n",
       "      <td>5</td>\n",
       "      <td>0</td>\n",
       "      <td>3</td>\n",
       "      <td>1.585</td>\n",
       "      <td>62.45</td>\n",
       "    </tr>\n",
       "    <tr>\n",
       "      <th>3</th>\n",
       "      <td>TRAIN_0003</td>\n",
       "      <td>Cc1ccc(-c2ccc(-n3nc(C)c(S(=O)(=O)N4CCN(C5CCCCC...</td>\n",
       "      <td>5.710</td>\n",
       "      <td>2.000</td>\n",
       "      <td>4.771</td>\n",
       "      <td>494.652</td>\n",
       "      <td>6</td>\n",
       "      <td>0</td>\n",
       "      <td>5</td>\n",
       "      <td>3.475</td>\n",
       "      <td>92.60</td>\n",
       "    </tr>\n",
       "    <tr>\n",
       "      <th>4</th>\n",
       "      <td>TRAIN_0004</td>\n",
       "      <td>Cc1ccc2c(c1)N(C(=O)c1ccncc1)CC(C)O2</td>\n",
       "      <td>93.270</td>\n",
       "      <td>99.990</td>\n",
       "      <td>2.335</td>\n",
       "      <td>268.310</td>\n",
       "      <td>3</td>\n",
       "      <td>0</td>\n",
       "      <td>1</td>\n",
       "      <td>2.337</td>\n",
       "      <td>42.43</td>\n",
       "    </tr>\n",
       "  </tbody>\n",
       "</table>\n",
       "</div>"
      ],
      "text/plain": [
       "           id                                             SMILES     MLM  \\\n",
       "0  TRAIN_0000    CCOc1ccc(CNC(=O)c2cc(-c3sc(C)nc3C)n[nH]2)cc1OCC  26.010   \n",
       "1  TRAIN_0001               Cc1nc(C)c(CN2CC(C)C(=O)Nc3ccccc32)s1  29.270   \n",
       "2  TRAIN_0002                   CCCN1CCN(c2nn3nnnc3c3ccccc23)CC1   5.586   \n",
       "3  TRAIN_0003  Cc1ccc(-c2ccc(-n3nc(C)c(S(=O)(=O)N4CCN(C5CCCCC...   5.710   \n",
       "4  TRAIN_0004                Cc1ccc2c(c1)N(C(=O)c1ccncc1)CC(C)O2  93.270   \n",
       "\n",
       "      HLM  AlogP  Molecular_Weight  Num_H_Acceptors  Num_H_Donors  \\\n",
       "0  50.680  3.259           400.495                5             2   \n",
       "1  50.590  2.169           301.407                2             1   \n",
       "2  80.892  1.593           297.358                5             0   \n",
       "3   2.000  4.771           494.652                6             0   \n",
       "4  99.990  2.335           268.310                3             0   \n",
       "\n",
       "   Num_RotatableBonds   LogD  Molecular_PolarSurfaceArea  \n",
       "0                   8  3.259                      117.37  \n",
       "1                   2  2.172                       73.47  \n",
       "2                   3  1.585                       62.45  \n",
       "3                   5  3.475                       92.60  \n",
       "4                   1  2.337                       42.43  "
      ]
     },
     "execution_count": 17,
     "metadata": {},
     "output_type": "execute_result"
    }
   ],
   "source": [
    "import pandas as pd\n",
    "train_df = pd.read_csv(\"../input/train.csv\")\n",
    "train_df.head()"
   ]
  },
  {
   "cell_type": "code",
   "execution_count": null,
   "metadata": {},
   "outputs": [],
   "source": [
    "train_df.info()"
   ]
  },
  {
   "cell_type": "code",
   "execution_count": 23,
   "metadata": {},
   "outputs": [
    {
     "data": {
      "text/plain": [
       "<AxesSubplot:>"
      ]
     },
     "execution_count": 23,
     "metadata": {},
     "output_type": "execute_result"
    },
    {
     "data": {
      "image/png": "[encoded data removed]",
      "text/plain": [
       "<Figure size 640x480 with 1 Axes>"
      ]
     },
     "metadata": {},
     "output_type": "display_data"
    }
   ],
   "source": [
    "train_df[\"HLM\"].hist()"
   ]
  },
  {
   "cell_type": "code",
   "execution_count": 39,
   "metadata": {},
   "outputs": [
    {
     "data": {
      "text/plain": [
       "3.340439066492132"
      ]
     },
     "execution_count": 39,
     "metadata": {},
     "output_type": "execute_result"
    }
   ],
   "source": [
    "np.sqrt(((train_df[\"MLM\"] - (train_df[\"MLM\"]//10*10+5) )**2).mean())"
   ]
  },
  {
   "cell_type": "code",
   "execution_count": 40,
   "metadata": {},
   "outputs": [
    {
     "data": {
      "text/plain": [
       "0       26.010\n",
       "1       29.270\n",
       "2        5.586\n",
       "3        5.710\n",
       "4       93.270\n",
       "         ...  \n",
       "3493     1.556\n",
       "3494    35.560\n",
       "3495    56.150\n",
       "3496     0.030\n",
       "3497     0.450\n",
       "Name: MLM, Length: 3498, dtype: float64"
      ]
     },
     "execution_count": 40,
     "metadata": {},
     "output_type": "execute_result"
    }
   ],
   "source": [
    "train_df[\"MLM\"]"
   ]
  },
  {
   "cell_type": "code",
   "execution_count": 38,
   "metadata": {},
   "outputs": [
    {
     "data": {
      "text/plain": [
       "0       25.0\n",
       "1       25.0\n",
       "2        5.0\n",
       "3        5.0\n",
       "4       95.0\n",
       "        ... \n",
       "3493     5.0\n",
       "3494    35.0\n",
       "3495    55.0\n",
       "3496     5.0\n",
       "3497     5.0\n",
       "Name: MLM, Length: 3498, dtype: float64"
      ]
     },
     "execution_count": 38,
     "metadata": {},
     "output_type": "execute_result"
    }
   ],
   "source": [
    "train_df[\"MLM\"]//10 * 10+5"
   ]
  },
  {
   "cell_type": "code",
   "execution_count": null,
   "metadata": {},
   "outputs": [],
   "source": [
    "mol = Chem.MolFromSmiles(train_df['SMILES'][1000])\n",
    "mol"
   ]
  },
  {
   "cell_type": "markdown",
   "metadata": {},
   "source": [
    "---\n"
   ]
  },
  {
   "cell_type": "code",
   "execution_count": null,
   "metadata": {},
   "outputs": [],
   "source": [
    "from pytorch_tabnet.tab_network import AttentiveTransformer, FeatTransformer\n",
    "import torch.nn.functional as F\n",
    "from torch_geometric.nn import GCNConv\n",
    "from torch_geometric.nn import global_mean_pool\n",
    "import torch.nn as nn"
   ]
  },
  {
   "cell_type": "code",
   "execution_count": null,
   "metadata": {},
   "outputs": [],
   "source": [
    "from tqdm.notebook import tqdm\n",
    "from torch.utils.data import Dataset\n",
    "from torch_geometric.loader import DataLoader\n",
    "from torch_geometric.utils import from_smiles # Converts a SMILES string to a torch_geometric.data.Data instance."
   ]
  },
  {
   "cell_type": "code",
   "execution_count": null,
   "metadata": {},
   "outputs": [],
   "source": [
    "device = \"cuda\" if torch.cuda.is_available() else \"cpu\""
   ]
  },
  {
   "cell_type": "code",
   "execution_count": null,
   "metadata": {},
   "outputs": [],
   "source": [
    "class GraphFeature(nn.Module):\n",
    "    def __init__(self, node_feat, embed_dim):\n",
    "        super(GraphFeature, self).__init__()\n",
    "\n",
    "        self.conv_l1 = GCNConv(node_feat, 8)\n",
    "        self.conv_l2 = GCNConv(8, 16)\n",
    "        self.embedding = nn.Linear(16, embed_dim)\n",
    "\n",
    "    def forward(self, x, edge_idx, batch):\n",
    "        x = F.elu(self.conv_l1(x, edge_idx))\n",
    "        x = F.elu(self.conv_l2(x, edge_idx))\n",
    "        x = global_mean_pool(x, batch) # read-out layer\n",
    "\n",
    "        x = self.embedding(x)\n",
    "        return x"
   ]
  },
  {
   "cell_type": "code",
   "execution_count": null,
   "metadata": {},
   "outputs": [],
   "source": [
    "class GraphNet(nn.Module):\n",
    "    def __init__(self, graph_dict, num_heads, reg_emb, drop_ratio, out_dim):\n",
    "        super(GraphNet, self).__init__()\n",
    "\n",
    "        \n",
    "        self.graph_feature = GraphFeature(graph_dict[\"node_feat\"], graph_dict[\"embed_dim\"])\n",
    "\n",
    "        self.attn_layer = nn.MultiheadAttention(graph_dict[\"embed_dim\"], num_heads, dropout=drop_ratio)\n",
    "\n",
    "        self.regressor = nn.Sequential( nn.Linear(graph_dict[\"embed_dim\"] , reg_emb),\n",
    "                                        nn.BatchNorm1d(reg_emb),\n",
    "                                        nn.ELU(),\n",
    "                                        nn.Dropout(p=drop_ratio),\n",
    "                                        nn.Linear(reg_emb, reg_emb),\n",
    "                                        nn.ELU(),\n",
    "                                        nn.Dropout(p=drop_ratio),\n",
    "                                        nn.Linear(reg_emb, out_dim))\n",
    "        \n",
    "        \n",
    "    def forward(self, node_attr, edge_idx, batch):\n",
    "        graph_feat = self.graph_feature(node_attr, edge_idx, batch)\n",
    "        graph_feat.to(device)\n",
    "\n",
    "        attn_output = self.attn_layer(graph_feat, graph_feat)\n",
    "        attn_output = attn_output[0]\n",
    "\n",
    "        res = self.regressor(attn_output)\n",
    "        return res  "
   ]
  },
  {
   "cell_type": "code",
   "execution_count": null,
   "metadata": {},
   "outputs": [],
   "source": [
    "class MultiDataset(Dataset):\n",
    "    def __init__(self, dataFrame):\n",
    "        super(MultiDataset, self).__init__()\n",
    "\n",
    "        self.train_df = dataFrame\n",
    "        self.train_df.fillna(0, inplace=True)\n",
    "        self.graph_list = self.smiles2mol(train_df[\"SMILES\"])\n",
    "\n",
    "        self.target_mlm = torch.tensor(self.train_df[\"MLM\"].values.astype(np.float32))\n",
    "        self.target_hlm = torch.tensor(self.train_df[\"HLM\"].values.astype(np.float32))\n",
    "\n",
    "        self.wo_smiles_df = self.train_df.drop(columns=[\"SMILES\", \"id\", \"MLM\", \"HLM\"], axis=1)\n",
    "        self.wo_smiles_df = torch.tensor(self.wo_smiles_df.values.astype(np.float32))\n",
    "\n",
    "    \n",
    "    def smiles2mol(self, smiles_list):\n",
    "        print('Convert \"SMILES\" data to mol')\n",
    "\n",
    "        graph_list = []\n",
    "        for smiles in tqdm(smiles_list):\n",
    "            graph_data = from_smiles(smiles)\n",
    "\n",
    "            graph_data.smiles = None\n",
    "            graph_data.edge_attr = None\n",
    "\n",
    "            graph_list.append(graph_data)\n",
    "\n",
    "        print('Complete!')\n",
    "        return graph_list\n",
    "    \n",
    "    def __getitem__(self, idx):\n",
    "        return self.graph_list[idx], self.wo_smiles_df[idx], self.target_mlm[idx], self.target_hlm[idx]\n",
    "    \n",
    "    def __len__(self):\n",
    "        return len(self.graph_list)\n"
   ]
  },
  {
   "cell_type": "code",
   "execution_count": null,
   "metadata": {},
   "outputs": [],
   "source": [
    "train_dataset = MultiDataset(train_df)\n",
    "train_dataloader = DataLoader(train_dataset, batch_size=128)"
   ]
  },
  {
   "cell_type": "code",
   "execution_count": null,
   "metadata": {},
   "outputs": [],
   "source": [
    "len(train_dataset)"
   ]
  },
  {
   "cell_type": "code",
   "execution_count": null,
   "metadata": {},
   "outputs": [],
   "source": [
    "class RMSELoss(nn.Module):\n",
    "    def __init__(self):\n",
    "        super(RMSELoss, self).__init__()\n",
    "        self.mse = nn.MSELoss()\n",
    "    \n",
    "    def forward(self, y_hat, y):\n",
    "        loss = torch.sqrt(self.mse(y_hat, y))\n",
    "        return loss"
   ]
  },
  {
   "cell_type": "code",
   "execution_count": null,
   "metadata": {},
   "outputs": [],
   "source": [
    "graph_params = {\n",
    "    'node_feat': 9,\n",
    "    'embed_dim': 32\n",
    "}"
   ]
  },
  {
   "cell_type": "code",
   "execution_count": null,
   "metadata": {},
   "outputs": [],
   "source": [
    "model = GraphNet(graph_params, 3, 32, 0.1, 1)\n"
   ]
  },
  {
   "cell_type": "code",
   "execution_count": null,
   "metadata": {},
   "outputs": [],
   "source": [
    "EPOCHS = 100\n",
    "model.to(device)\n",
    "\n",
    "criterion = RMSELoss().to(device)\n",
    "optimizer = torch.optim.Adam(model.parameters(), lr=2e-5)\n",
    "\n",
    "losses = list()\n",
    "\n",
    "model.train()\n",
    "for epoch in range(EPOCHS):\n",
    "    epoch_loss = 0\n",
    "    for graph, tabular, mlm, _ in train_dataloader:\n",
    "\n",
    "        graph_x = graph.x.type(torch.float32).to(device)\n",
    "        graph_edge_idx = graph.edge_index.to(device)\n",
    "        graph_batch = graph.batch.to(device)\n",
    "\n",
    "        tabular = tabular.to(device)\n",
    "        mlm = mlm.view(-1,1).to(device)\n",
    "\n",
    "        optimizer.zero_grad()\n",
    "        predict = model(graph_x, graph_edge_idx, graph_batch)\n"
   ]
  },
  {
   "cell_type": "code",
   "execution_count": null,
   "metadata": {},
   "outputs": [],
   "source": []
  }
 ],
 "metadata": {
  "kernelspec": {
   "display_name": "smils",
   "language": "python",
   "name": "python3"
  },
  "language_info": {
   "codemirror_mode": {
    "name": "ipython",
    "version": 3
   },
   "file_extension": ".py",
   "mimetype": "text/x-python",
   "name": "python",
   "nbconvert_exporter": "python",
   "pygments_lexer": "ipython3",
   "version": "3.10.12"
  },
  "orig_nbformat": 4
 },
 "nbformat": 4,
 "nbformat_minor": 2
}
