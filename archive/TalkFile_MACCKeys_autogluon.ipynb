{
  "cells": [
    {
      "cell_type": "code",
      "execution_count": null,
      "metadata": {
        "id": "uAXUPL10_7MQ"
      },
      "outputs": [],
      "source": [
        "import pandas as pd\n",
        "import numpy as np"
      ]
    },
    {
      "cell_type": "code",
      "execution_count": null,
      "metadata": {
        "id": "Tm71P_DOaiQj"
      },
      "outputs": [],
      "source": [
        "train_df = pd.read_csv('../input/train.csv')\n",
        "test_df = pd.read_csv('../input/test.csv')\n",
        "train_df['AlogP'] = np.where(pd.isna(train_df['AlogP']), train_df['LogD'], train_df['AlogP'])\n",
        "test_df['AlogP'] = np.where(pd.isna(test_df['AlogP']), test_df['LogD'], test_df['AlogP'])"
      ]
    },
    {
      "cell_type": "code",
      "execution_count": null,
      "metadata": {
        "id": "yhZ8VvbNbLLS"
      },
      "outputs": [],
      "source": [
        "from rdkit.Chem import Descriptors\n",
        "def getMolDescriptors(mol, missingVal=None):\n",
        "    res = {}\n",
        "    for nm,fn in Descriptors._descList:\n",
        "        # some of the descriptor fucntions can throw errors if they fail, catch those here:\n",
        "        try:\n",
        "            val = fn(mol)\n",
        "        except:\n",
        "            # print the error message:\n",
        "            import traceback\n",
        "            traceback.print_exc()\n",
        "            # and set the descriptor value to whatever missingVal is\n",
        "            val = missingVal\n",
        "        res[nm] = val\n",
        "    return res"
      ]
    },
    {
      "cell_type": "code",
      "execution_count": null,
      "metadata": {
        "id": "Hrbp3wEGb0UH"
      },
      "outputs": [],
      "source": [
        "from rdkit import Chem\n",
        "train_df['Molecule'] = train_df['SMILES'].apply(Chem.MolFromSmiles)\n",
        "test_df['Molecule'] = test_df['SMILES'].apply(Chem.MolFromSmiles)"
      ]
    },
    {
      "cell_type": "code",
      "execution_count": null,
      "metadata": {
        "id": "hOdWysMwb9zv"
      },
      "outputs": [],
      "source": [
        "train_desc = [getMolDescriptors(m) for m in train_df['Molecule']]\n",
        "test_desc = [getMolDescriptors(m) for m in test_df['Molecule']]\n",
        "train_desc = pd.DataFrame(train_desc)\n",
        "test_desc = pd.DataFrame(test_desc)"
      ]
    },
    {
      "cell_type": "code",
      "execution_count": null,
      "metadata": {
        "id": "U5tE88dNchEA"
      },
      "outputs": [],
      "source": [
        "train_desc = pd.concat([train_df,train_desc],axis = 1)\n",
        "test_desc = pd.concat([test_df,test_desc],axis = 1)"
      ]
    },
    {
      "cell_type": "code",
      "execution_count": null,
      "metadata": {
        "id": "cgtRoVStdeP8"
      },
      "outputs": [],
      "source": [
        "train_desc = train_desc.drop_duplicates(['SMILES'], keep=False).reset_index(drop=True)"
      ]
    },
    {
      "cell_type": "code",
      "execution_count": null,
      "metadata": {
        "id": "AmIDBX2loVdg"
      },
      "outputs": [],
      "source": [
        "col_list = train_desc.columns\n",
        "drop_list = []\n",
        "for col in col_list:\n",
        "  missing = train_desc[col].isna().any()\n",
        "  if missing == True:\n",
        "    drop_list.append(col)\n",
        "train_desc = train_desc.drop(drop_list, axis=1)\n",
        "test_desc = test_desc.drop(drop_list, axis=1)"
      ]
    },
    {
      "cell_type": "code",
      "execution_count": null,
      "metadata": {},
      "outputs": [],
      "source": [
        "from rdkit.Chem import MACCSkeys\n",
        "\n",
        "def toMACCKeys(mol):\n",
        "    maccs = MACCSkeys.GenMACCSKeys(mol)\n",
        "    bits = [int(bit) for bit in maccs.ToBitString()]\n",
        "\n",
        "    return bits"
      ]
    },
    {
      "cell_type": "code",
      "execution_count": null,
      "metadata": {},
      "outputs": [],
      "source": [
        "train_fps = pd.DataFrame(train_desc[\"Molecule\"].apply(toMACCKeys))\n",
        "test_fps =  pd.DataFrame(test_desc[\"Molecule\"].apply(toMACCKeys))\n"
      ]
    },
    {
      "cell_type": "code",
      "execution_count": null,
      "metadata": {},
      "outputs": [],
      "source": [
        "train_fps = pd.DataFrame(train_fps[\"Molecule\"].tolist(), columns=[f\"fp{i}\" for i in range(len(train_fps[\"Molecule\"][0]))])\n",
        "test_fps = pd.DataFrame(test_fps[\"Molecule\"].tolist(), columns=[f\"fp{i}\" for i in range(len(test_fps[\"Molecule\"][0]))])"
      ]
    },
    {
      "cell_type": "code",
      "execution_count": null,
      "metadata": {},
      "outputs": [],
      "source": [
        "train_desc = pd.concat([train_desc, train_fps], axis=1)\n",
        "test_desc = pd.concat([test_desc, test_fps], axis=1)"
      ]
    },
    {
      "cell_type": "code",
      "execution_count": null,
      "metadata": {},
      "outputs": [],
      "source": [
        "train_desc.head()"
      ]
    },
    {
      "cell_type": "code",
      "execution_count": null,
      "metadata": {
        "id": "9tA4SN-ioZln"
      },
      "outputs": [],
      "source": [
        "from sklearn.preprocessing import MinMaxScaler\n",
        "scaler = MinMaxScaler()"
      ]
    },
    {
      "cell_type": "code",
      "execution_count": null,
      "metadata": {
        "id": "AiVqPACeoqm-"
      },
      "outputs": [],
      "source": [
        "drop_col_list = ['id','SMILES','MLM','HLM','Molecule']\n",
        "target_mlm = train_desc['MLM']\n",
        "target_hlm = train_desc['HLM']"
      ]
    },
    {
      "cell_type": "code",
      "execution_count": null,
      "metadata": {
        "id": "jJbGnqa9ouHN"
      },
      "outputs": [],
      "source": [
        "train = train_desc.drop(drop_col_list,axis=1)\n",
        "test = test_desc.drop(['id','SMILES','Molecule'], axis=1)"
      ]
    },
    {
      "cell_type": "code",
      "execution_count": null,
      "metadata": {
        "id": "THJ0NZnWpsRo"
      },
      "outputs": [],
      "source": [
        "feature = [col for col in train.columns if col not in drop_col_list]"
      ]
    },
    {
      "cell_type": "code",
      "execution_count": null,
      "metadata": {
        "id": "f-FTaZ-Mptpd"
      },
      "outputs": [],
      "source": [
        "train[feature] = scaler.fit_transform(train[feature])\n",
        "test[feature] = scaler.transform(test[feature])"
      ]
    },
    {
      "cell_type": "code",
      "execution_count": null,
      "metadata": {},
      "outputs": [],
      "source": [
        "train_MLM = pd.concat([train, target_mlm], axis=1)\n",
        "train_HLM = pd.concat([train, target_hlm], axis=1)"
      ]
    },
    {
      "cell_type": "code",
      "execution_count": null,
      "metadata": {
        "id": "MNG3ysxGrJV4"
      },
      "outputs": [],
      "source": [
        "from autogluon.tabular import TabularDataset, TabularPredictor\n",
        "from IPython.display import Image, display"
      ]
    },
    {
      "cell_type": "code",
      "execution_count": null,
      "metadata": {},
      "outputs": [],
      "source": [
        "predictor_MLM = TabularPredictor(label='MLM', eval_metric='root_mean_squared_error', verbosity=False).fit(train_MLM)\n",
        "predictor_HLM = TabularPredictor(label='HLM', eval_metric='root_mean_squared_error', verbosity=False).fit(train_HLM)\n",
        "\n",
        "ld_board_MLM = predictor_MLM.leaderboard(train_MLM, silent=True)\n",
        "print(\"=\"*20, \"MLM\", \"=\"*20)\n",
        "print(ld_board_MLM)\n",
        "print(f\"Best: {predictor_MLM.get_model_best()}\")\n",
        "\n",
        "ld_board_HLM = predictor_HLM.leaderboard(train_HLM, silent=True)\n",
        "print(\"=\"*20, \"HLM\", \"=\"*20)\n",
        "print(ld_board_HLM)\n",
        "print(f\"Best: {predictor_HLM.get_model_best()}\")"
      ]
    },
    {
      "cell_type": "code",
      "execution_count": null,
      "metadata": {},
      "outputs": [],
      "source": [
        "path_to_png=predictor_MLM.plot_ensemble_model()\n",
        "display(Image(filename=path_to_png))\n",
        "path_to_png=predictor_HLM.plot_ensemble_model()\n",
        "display(Image(filename=path_to_png))"
      ]
    },
    {
      "cell_type": "code",
      "execution_count": null,
      "metadata": {},
      "outputs": [],
      "source": [
        "# 결과파일 작성\n",
        "pred_MLM = predictor_MLM.predict(test)\n",
        "pred_HLM = predictor_HLM.predict(test)\n",
        "\n",
        "submission = pd.DataFrame()\n",
        "submission[\"id\"] = test_df[\"id\"]\n",
        "submission[\"MLM\"] = pred_MLM\n",
        "submission[\"HLM\"] = pred_HLM\n",
        "\n",
        "submission.to_csv(\"../output/submission.csv\", index=False)"
      ]
    },
    {
      "cell_type": "code",
      "execution_count": null,
      "metadata": {},
      "outputs": [],
      "source": [
        "submission"
      ]
    }
  ],
  "metadata": {
    "colab": {
      "private_outputs": true,
      "provenance": []
    },
    "kernelspec": {
      "display_name": "Python 3",
      "name": "python3"
    },
    "language_info": {
      "codemirror_mode": {
        "name": "ipython",
        "version": 3
      },
      "file_extension": ".py",
      "mimetype": "text/x-python",
      "name": "python",
      "nbconvert_exporter": "python",
      "pygments_lexer": "ipython3",
      "version": "3.10.12"
    }
  },
  "nbformat": 4,
  "nbformat_minor": 0
}
