{
  "cells": [
    {
      "cell_type": "code",
      "execution_count": 1,
      "metadata": {
        "id": "uAXUPL10_7MQ"
      },
      "outputs": [],
      "source": [
        "import pandas as pd\n",
        "import numpy as np"
      ]
    },
    {
      "cell_type": "code",
      "execution_count": 2,
      "metadata": {
        "id": "Tm71P_DOaiQj"
      },
      "outputs": [],
      "source": [
        "train_df = pd.read_csv('../input/train.csv')\n",
        "test_df = pd.read_csv('../input/test.csv')\n",
        "train_df['AlogP'] = np.where(pd.isna(train_df['AlogP']), train_df['LogD'], train_df['AlogP'])\n",
        "test_df['AlogP'] = np.where(pd.isna(test_df['AlogP']), test_df['LogD'], test_df['AlogP'])"
      ]
    },
    {
      "cell_type": "code",
      "execution_count": 3,
      "metadata": {
        "id": "yhZ8VvbNbLLS"
      },
      "outputs": [],
      "source": [
        "from rdkit.Chem import Descriptors\n",
        "def getMolDescriptors(mol, missingVal=None):\n",
        "    res = {}\n",
        "    for nm,fn in Descriptors._descList:\n",
        "        # some of the descriptor fucntions can throw errors if they fail, catch those here:\n",
        "        try:\n",
        "            val = fn(mol)\n",
        "        except:\n",
        "            # print the error message:\n",
        "            import traceback\n",
        "            traceback.print_exc()\n",
        "            # and set the descriptor value to whatever missingVal is\n",
        "            val = missingVal\n",
        "        res[nm] = val\n",
        "    return res"
      ]
    },
    {
      "cell_type": "code",
      "execution_count": 4,
      "metadata": {
        "id": "Hrbp3wEGb0UH"
      },
      "outputs": [],
      "source": [
        "from rdkit import Chem\n",
        "train_df['Molecule'] = train_df['SMILES'].apply(Chem.MolFromSmiles)\n",
        "test_df['Molecule'] = test_df['SMILES'].apply(Chem.MolFromSmiles)"
      ]
    },
    {
      "cell_type": "code",
      "execution_count": 5,
      "metadata": {
        "id": "hOdWysMwb9zv"
      },
      "outputs": [],
      "source": [
        "train_desc = [getMolDescriptors(m) for m in train_df['Molecule']]\n",
        "test_desc = [getMolDescriptors(m) for m in test_df['Molecule']]\n",
        "train_desc = pd.DataFrame(train_desc)\n",
        "test_desc = pd.DataFrame(test_desc)"
      ]
    },
    {
      "cell_type": "code",
      "execution_count": 6,
      "metadata": {
        "id": "U5tE88dNchEA"
      },
      "outputs": [],
      "source": [
        "train_desc = pd.concat([train_df,train_desc],axis = 1)\n",
        "test_desc = pd.concat([test_df,test_desc],axis = 1)"
      ]
    },
    {
      "cell_type": "code",
      "execution_count": 7,
      "metadata": {
        "id": "cgtRoVStdeP8"
      },
      "outputs": [],
      "source": [
        "train_desc = train_desc.drop_duplicates(['SMILES'], keep=False).reset_index(drop=True)"
      ]
    },
    {
      "cell_type": "code",
      "execution_count": 8,
      "metadata": {
        "id": "AmIDBX2loVdg"
      },
      "outputs": [],
      "source": [
        "col_list = train_desc.columns\n",
        "drop_list = []\n",
        "for col in col_list:\n",
        "  missing = train_desc[col].isna().any()\n",
        "  if missing == True:\n",
        "    drop_list.append(col)\n",
        "train_desc = train_desc.drop(drop_list, axis=1)\n",
        "test_desc = test_desc.drop(drop_list, axis=1)"
      ]
    },
    {
      "cell_type": "code",
      "execution_count": 9,
      "metadata": {},
      "outputs": [],
      "source": [
        "from rdkit.Chem import MACCSkeys\n",
        "\n",
        "def toMACCKeys(mol):\n",
        "    maccs = MACCSkeys.GenMACCSKeys(mol)\n",
        "    bits = [int(bit) for bit in maccs.ToBitString()]\n",
        "\n",
        "    return bits"
      ]
    },
    {
      "cell_type": "code",
      "execution_count": 10,
      "metadata": {},
      "outputs": [],
      "source": [
        "train_fps = pd.DataFrame(train_desc[\"Molecule\"].apply(toMACCKeys))\n",
        "test_fps =  pd.DataFrame(test_desc[\"Molecule\"].apply(toMACCKeys))\n"
      ]
    },
    {
      "cell_type": "code",
      "execution_count": 11,
      "metadata": {},
      "outputs": [],
      "source": [
        "train_fps = pd.DataFrame(train_fps[\"Molecule\"].tolist(), columns=[f\"fp{i}\" for i in range(len(train_fps[\"Molecule\"][0]))])\n",
        "test_fps = pd.DataFrame(test_fps[\"Molecule\"].tolist(), columns=[f\"fp{i}\" for i in range(len(test_fps[\"Molecule\"][0]))])"
      ]
    },
    {
      "cell_type": "code",
      "execution_count": 12,
      "metadata": {},
      "outputs": [],
      "source": [
        "train_desc = pd.concat([train_desc, train_fps], axis=1)\n",
        "test_desc = pd.concat([test_desc, test_fps], axis=1)"
      ]
    },
    {
      "cell_type": "code",
      "execution_count": 13,
      "metadata": {},
      "outputs": [
        {
          "data": {
            "text/html": [
              "<div>\n",
              "<style scoped>\n",
              "    .dataframe tbody tr th:only-of-type {\n",
              "        vertical-align: middle;\n",
              "    }\n",
              "\n",
              "    .dataframe tbody tr th {\n",
              "        vertical-align: top;\n",
              "    }\n",
              "\n",
              "    .dataframe thead th {\n",
              "        text-align: right;\n",
              "    }\n",
              "</style>\n",
              "<table border=\"1\" class=\"dataframe\">\n",
              "  <thead>\n",
              "    <tr style=\"text-align: right;\">\n",
              "      <th></th>\n",
              "      <th>id</th>\n",
              "      <th>SMILES</th>\n",
              "      <th>MLM</th>\n",
              "      <th>HLM</th>\n",
              "      <th>AlogP</th>\n",
              "      <th>Molecular_Weight</th>\n",
              "      <th>Num_H_Acceptors</th>\n",
              "      <th>Num_H_Donors</th>\n",
              "      <th>Num_RotatableBonds</th>\n",
              "      <th>LogD</th>\n",
              "      <th>...</th>\n",
              "      <th>fp157</th>\n",
              "      <th>fp158</th>\n",
              "      <th>fp159</th>\n",
              "      <th>fp160</th>\n",
              "      <th>fp161</th>\n",
              "      <th>fp162</th>\n",
              "      <th>fp163</th>\n",
              "      <th>fp164</th>\n",
              "      <th>fp165</th>\n",
              "      <th>fp166</th>\n",
              "    </tr>\n",
              "  </thead>\n",
              "  <tbody>\n",
              "    <tr>\n",
              "      <th>0</th>\n",
              "      <td>TRAIN_0000</td>\n",
              "      <td>CCOc1ccc(CNC(=O)c2cc(-c3sc(C)nc3C)n[nH]2)cc1OCC</td>\n",
              "      <td>26.010</td>\n",
              "      <td>50.680</td>\n",
              "      <td>3.259</td>\n",
              "      <td>400.495</td>\n",
              "      <td>5</td>\n",
              "      <td>2</td>\n",
              "      <td>8</td>\n",
              "      <td>3.259</td>\n",
              "      <td>...</td>\n",
              "      <td>1</td>\n",
              "      <td>1</td>\n",
              "      <td>1</td>\n",
              "      <td>1</td>\n",
              "      <td>1</td>\n",
              "      <td>1</td>\n",
              "      <td>1</td>\n",
              "      <td>1</td>\n",
              "      <td>1</td>\n",
              "      <td>0</td>\n",
              "    </tr>\n",
              "    <tr>\n",
              "      <th>1</th>\n",
              "      <td>TRAIN_0001</td>\n",
              "      <td>Cc1nc(C)c(CN2CC(C)C(=O)Nc3ccccc32)s1</td>\n",
              "      <td>29.270</td>\n",
              "      <td>50.590</td>\n",
              "      <td>2.169</td>\n",
              "      <td>301.407</td>\n",
              "      <td>2</td>\n",
              "      <td>1</td>\n",
              "      <td>2</td>\n",
              "      <td>2.172</td>\n",
              "      <td>...</td>\n",
              "      <td>0</td>\n",
              "      <td>1</td>\n",
              "      <td>0</td>\n",
              "      <td>1</td>\n",
              "      <td>1</td>\n",
              "      <td>1</td>\n",
              "      <td>1</td>\n",
              "      <td>1</td>\n",
              "      <td>1</td>\n",
              "      <td>0</td>\n",
              "    </tr>\n",
              "    <tr>\n",
              "      <th>2</th>\n",
              "      <td>TRAIN_0002</td>\n",
              "      <td>CCCN1CCN(c2nn3nnnc3c3ccccc23)CC1</td>\n",
              "      <td>5.586</td>\n",
              "      <td>80.892</td>\n",
              "      <td>1.593</td>\n",
              "      <td>297.358</td>\n",
              "      <td>5</td>\n",
              "      <td>0</td>\n",
              "      <td>3</td>\n",
              "      <td>1.585</td>\n",
              "      <td>...</td>\n",
              "      <td>0</td>\n",
              "      <td>1</td>\n",
              "      <td>0</td>\n",
              "      <td>1</td>\n",
              "      <td>1</td>\n",
              "      <td>1</td>\n",
              "      <td>1</td>\n",
              "      <td>0</td>\n",
              "      <td>1</td>\n",
              "      <td>0</td>\n",
              "    </tr>\n",
              "    <tr>\n",
              "      <th>3</th>\n",
              "      <td>TRAIN_0003</td>\n",
              "      <td>Cc1ccc(-c2ccc(-n3nc(C)c(S(=O)(=O)N4CCN(C5CCCCC...</td>\n",
              "      <td>5.710</td>\n",
              "      <td>2.000</td>\n",
              "      <td>4.771</td>\n",
              "      <td>494.652</td>\n",
              "      <td>6</td>\n",
              "      <td>0</td>\n",
              "      <td>5</td>\n",
              "      <td>3.475</td>\n",
              "      <td>...</td>\n",
              "      <td>0</td>\n",
              "      <td>1</td>\n",
              "      <td>1</td>\n",
              "      <td>1</td>\n",
              "      <td>1</td>\n",
              "      <td>1</td>\n",
              "      <td>1</td>\n",
              "      <td>1</td>\n",
              "      <td>1</td>\n",
              "      <td>0</td>\n",
              "    </tr>\n",
              "    <tr>\n",
              "      <th>4</th>\n",
              "      <td>TRAIN_0004</td>\n",
              "      <td>Cc1ccc2c(c1)N(C(=O)c1ccncc1)CC(C)O2</td>\n",
              "      <td>93.270</td>\n",
              "      <td>99.990</td>\n",
              "      <td>2.335</td>\n",
              "      <td>268.310</td>\n",
              "      <td>3</td>\n",
              "      <td>0</td>\n",
              "      <td>1</td>\n",
              "      <td>2.337</td>\n",
              "      <td>...</td>\n",
              "      <td>1</td>\n",
              "      <td>1</td>\n",
              "      <td>1</td>\n",
              "      <td>1</td>\n",
              "      <td>1</td>\n",
              "      <td>1</td>\n",
              "      <td>1</td>\n",
              "      <td>1</td>\n",
              "      <td>1</td>\n",
              "      <td>0</td>\n",
              "    </tr>\n",
              "  </tbody>\n",
              "</table>\n",
              "<p>5 rows × 376 columns</p>\n",
              "</div>"
            ],
            "text/plain": [
              "           id                                             SMILES     MLM  \\\n",
              "0  TRAIN_0000    CCOc1ccc(CNC(=O)c2cc(-c3sc(C)nc3C)n[nH]2)cc1OCC  26.010   \n",
              "1  TRAIN_0001               Cc1nc(C)c(CN2CC(C)C(=O)Nc3ccccc32)s1  29.270   \n",
              "2  TRAIN_0002                   CCCN1CCN(c2nn3nnnc3c3ccccc23)CC1   5.586   \n",
              "3  TRAIN_0003  Cc1ccc(-c2ccc(-n3nc(C)c(S(=O)(=O)N4CCN(C5CCCCC...   5.710   \n",
              "4  TRAIN_0004                Cc1ccc2c(c1)N(C(=O)c1ccncc1)CC(C)O2  93.270   \n",
              "\n",
              "      HLM  AlogP  Molecular_Weight  Num_H_Acceptors  Num_H_Donors  \\\n",
              "0  50.680  3.259           400.495                5             2   \n",
              "1  50.590  2.169           301.407                2             1   \n",
              "2  80.892  1.593           297.358                5             0   \n",
              "3   2.000  4.771           494.652                6             0   \n",
              "4  99.990  2.335           268.310                3             0   \n",
              "\n",
              "   Num_RotatableBonds   LogD  ...  fp157 fp158  fp159  fp160  fp161  fp162  \\\n",
              "0                   8  3.259  ...      1     1      1      1      1      1   \n",
              "1                   2  2.172  ...      0     1      0      1      1      1   \n",
              "2                   3  1.585  ...      0     1      0      1      1      1   \n",
              "3                   5  3.475  ...      0     1      1      1      1      1   \n",
              "4                   1  2.337  ...      1     1      1      1      1      1   \n",
              "\n",
              "   fp163  fp164  fp165  fp166  \n",
              "0      1      1      1      0  \n",
              "1      1      1      1      0  \n",
              "2      1      0      1      0  \n",
              "3      1      1      1      0  \n",
              "4      1      1      1      0  \n",
              "\n",
              "[5 rows x 376 columns]"
            ]
          },
          "execution_count": 13,
          "metadata": {},
          "output_type": "execute_result"
        }
      ],
      "source": [
        "train_desc.head()"
      ]
    },
    {
      "cell_type": "code",
      "execution_count": 14,
      "metadata": {
        "id": "9tA4SN-ioZln"
      },
      "outputs": [],
      "source": [
        "from sklearn.preprocessing import MinMaxScaler\n",
        "scaler = MinMaxScaler()"
      ]
    },
    {
      "cell_type": "code",
      "execution_count": 15,
      "metadata": {
        "id": "AiVqPACeoqm-"
      },
      "outputs": [],
      "source": [
        "drop_col_list = ['id','SMILES','MLM','HLM','Molecule']\n",
        "target_mlm = train_desc['MLM']\n",
        "target_hlm = train_desc['HLM']"
      ]
    },
    {
      "cell_type": "code",
      "execution_count": 16,
      "metadata": {
        "id": "jJbGnqa9ouHN"
      },
      "outputs": [],
      "source": [
        "train = train_desc.drop(drop_col_list,axis=1)\n",
        "test = test_desc.drop(['id','SMILES','Molecule'], axis=1)"
      ]
    },
    {
      "cell_type": "code",
      "execution_count": 17,
      "metadata": {
        "id": "THJ0NZnWpsRo"
      },
      "outputs": [],
      "source": [
        "feature = [col for col in train.columns if col not in drop_col_list]"
      ]
    },
    {
      "cell_type": "code",
      "execution_count": 18,
      "metadata": {
        "id": "f-FTaZ-Mptpd"
      },
      "outputs": [],
      "source": [
        "train[feature] = scaler.fit_transform(train[feature])\n",
        "test[feature] = scaler.transform(test[feature])"
      ]
    },
    {
      "cell_type": "code",
      "execution_count": 19,
      "metadata": {},
      "outputs": [],
      "source": [
        "train_MLM = pd.concat([train, target_mlm], axis=1)\n",
        "train_HLM = pd.concat([train, target_hlm], axis=1)"
      ]
    },
    {
      "cell_type": "code",
      "execution_count": 20,
      "metadata": {
        "id": "MNG3ysxGrJV4"
      },
      "outputs": [],
      "source": [
        "from autogluon.tabular import TabularDataset, TabularPredictor\n",
        "from IPython.display import Image, display"
      ]
    },
    {
      "cell_type": "code",
      "execution_count": 21,
      "metadata": {},
      "outputs": [
        {
          "name": "stdout",
          "output_type": "stream",
          "text": [
            "==================== MLM ====================\n",
            "                  model  score_test  score_val  pred_time_test  pred_time_val  \\\n",
            "0         LightGBMLarge  -11.509393 -29.906275        0.154319       0.017232   \n",
            "1        KNeighborsDist  -12.618216 -33.116507        0.087658       0.048958   \n",
            "2       RandomForestMSE  -15.555089 -30.015302        0.197016       0.045719   \n",
            "3         ExtraTreesMSE  -15.561016 -30.340948        0.185550       0.061762   \n",
            "4   WeightedEnsemble_L2  -16.686487 -29.475483        0.414232       0.107399   \n",
            "5               XGBoost  -17.525068 -30.098167        0.063675       0.013552   \n",
            "6              CatBoost  -19.429132 -29.699504        0.028117       0.008732   \n",
            "7              LightGBM  -22.053507 -29.747932        0.028653       0.009712   \n",
            "8            LightGBMXT  -22.398921 -29.920545        0.044567       0.008535   \n",
            "9        KNeighborsUnif  -28.682439 -33.197591        0.089359       0.067034   \n",
            "10      NeuralNetFastAI  -29.715624 -32.139565        0.089952       0.015537   \n",
            "11       NeuralNetTorch  -33.097165 -33.424851        0.195235       0.079891   \n",
            "\n",
            "     fit_time  pred_time_test_marginal  pred_time_val_marginal  \\\n",
            "0   17.153978                 0.154319                0.017232   \n",
            "1    0.033782                 0.087658                0.048958   \n",
            "2   44.937429                 0.197016                0.045719   \n",
            "3   15.163760                 0.185550                0.061762   \n",
            "4   49.815983                 0.007242                0.000677   \n",
            "5    7.527884                 0.063675                0.013552   \n",
            "6   18.464222                 0.028117                0.008732   \n",
            "7    3.480726                 0.028653                0.009712   \n",
            "8    2.791215                 0.044567                0.008535   \n",
            "9    0.037575                 0.089359                0.067034   \n",
            "10   4.460345                 0.089952                0.015537   \n",
            "11   4.896964                 0.195235                0.079891   \n",
            "\n",
            "    fit_time_marginal  stack_level  can_infer  fit_order  \n",
            "0           17.153978            1       True         11  \n",
            "1            0.033782            1       True          2  \n",
            "2           44.937429            1       True          5  \n",
            "3           15.163760            1       True          7  \n",
            "4            0.364176            2       True         12  \n",
            "5            7.527884            1       True          9  \n",
            "6           18.464222            1       True          6  \n",
            "7            3.480726            1       True          4  \n",
            "8            2.791215            1       True          3  \n",
            "9            0.037575            1       True          1  \n",
            "10           4.460345            1       True          8  \n",
            "11           4.896964            1       True         10  \n",
            "Best: WeightedEnsemble_L2\n",
            "==================== HLM ====================\n",
            "                  model  score_test  score_val  pred_time_test  pred_time_val  \\\n",
            "0               XGBoost  -11.778228 -30.892297        0.167001       0.018685   \n",
            "1         LightGBMLarge  -12.215935 -31.333781        0.124643       0.013757   \n",
            "2        KNeighborsDist  -13.100873 -34.383240        0.204474       0.018226   \n",
            "3   WeightedEnsemble_L2  -14.210758 -30.310944        0.865456       0.187590   \n",
            "4              LightGBM  -14.435984 -30.670752        0.095156       0.011020   \n",
            "5         ExtraTreesMSE  -15.987453 -31.114348        0.208735       0.060214   \n",
            "6       RandomForestMSE  -16.117502 -31.186754        0.199185       0.077500   \n",
            "7            LightGBMXT  -21.566511 -30.860957        0.084254       0.006130   \n",
            "8              CatBoost  -22.763796 -31.168516        0.032624       0.006657   \n",
            "9       NeuralNetFastAI  -24.582020 -32.745500        0.106038       0.013590   \n",
            "10       KNeighborsUnif  -29.659241 -34.570028        0.113963       0.014966   \n",
            "11       NeuralNetTorch  -31.902293 -33.741575        0.194314       0.073062   \n",
            "\n",
            "     fit_time  pred_time_test_marginal  pred_time_val_marginal  \\\n",
            "0   17.567633                 0.167001                0.018685   \n",
            "1   10.904636                 0.124643                0.013757   \n",
            "2    0.034886                 0.204474                0.018226   \n",
            "3   76.861959                 0.005087                0.000451   \n",
            "4    3.432242                 0.095156                0.011020   \n",
            "5   14.104163                 0.208735                0.060214   \n",
            "6   36.043569                 0.199185                0.077500   \n",
            "7    1.940270                 0.084254                0.006130   \n",
            "8   14.303530                 0.032624                0.006657   \n",
            "9    3.439569                 0.106038                0.013590   \n",
            "10   0.031911                 0.113963                0.014966   \n",
            "11   5.178763                 0.194314                0.073062   \n",
            "\n",
            "    fit_time_marginal  stack_level  can_infer  fit_order  \n",
            "0           17.567633            1       True          9  \n",
            "1           10.904636            1       True         11  \n",
            "2            0.034886            1       True          2  \n",
            "3            0.334512            2       True         12  \n",
            "4            3.432242            1       True          4  \n",
            "5           14.104163            1       True          7  \n",
            "6           36.043569            1       True          5  \n",
            "7            1.940270            1       True          3  \n",
            "8           14.303530            1       True          6  \n",
            "9            3.439569            1       True          8  \n",
            "10           0.031911            1       True          1  \n",
            "11           5.178763            1       True         10  \n",
            "Best: WeightedEnsemble_L2\n"
          ]
        }
      ],
      "source": [
        "predictor_MLM = TabularPredictor(label='MLM', eval_metric='root_mean_squared_error', verbosity=False).fit(train_MLM)\n",
        "predictor_HLM = TabularPredictor(label='HLM', eval_metric='root_mean_squared_error', verbosity=False).fit(train_HLM)\n",
        "\n",
        "ld_board_MLM = predictor_MLM.leaderboard(train_MLM, silent=True)\n",
        "print(\"=\"*20, \"MLM\", \"=\"*20)\n",
        "print(ld_board_MLM)\n",
        "print(f\"Best: {predictor_MLM.get_model_best()}\")\n",
        "\n",
        "ld_board_HLM = predictor_HLM.leaderboard(train_HLM, silent=True)\n",
        "print(\"=\"*20, \"HLM\", \"=\"*20)\n",
        "print(ld_board_HLM)\n",
        "print(f\"Best: {predictor_HLM.get_model_best()}\")"
      ]
    },
    {
      "cell_type": "code",
      "execution_count": 22,
      "metadata": {},
      "outputs": [
        {
          "data": {
            "image/png": "[encoded data removed]",
            "text/plain": [
              "<IPython.core.display.Image object>"
            ]
          },
          "metadata": {},
          "output_type": "display_data"
        },
        {
          "data": {
            "image/png": "[encoded data removed]",
            "text/plain": [
              "<IPython.core.display.Image object>"
            ]
          },
          "metadata": {},
          "output_type": "display_data"
        }
      ],
      "source": [
        "path_to_png=predictor_MLM.plot_ensemble_model()\n",
        "display(Image(filename=path_to_png))\n",
        "path_to_png=predictor_HLM.plot_ensemble_model()\n",
        "display(Image(filename=path_to_png))"
      ]
    },
    {
      "cell_type": "code",
      "execution_count": 23,
      "metadata": {},
      "outputs": [],
      "source": [
        "# 결과파일 작성\n",
        "pred_MLM = predictor_MLM.predict(test)\n",
        "pred_HLM = predictor_HLM.predict(test)\n",
        "\n",
        "submission = pd.DataFrame()\n",
        "submission[\"id\"] = test_df[\"id\"]\n",
        "submission[\"MLM\"] = pred_MLM\n",
        "submission[\"HLM\"] = pred_HLM\n",
        "\n",
        "submission.to_csv(\"../output/submission.csv\", index=False)"
      ]
    },
    {
      "cell_type": "code",
      "execution_count": 24,
      "metadata": {},
      "outputs": [
        {
          "data": {
            "text/html": [
              "<div>\n",
              "<style scoped>\n",
              "    .dataframe tbody tr th:only-of-type {\n",
              "        vertical-align: middle;\n",
              "    }\n",
              "\n",
              "    .dataframe tbody tr th {\n",
              "        vertical-align: top;\n",
              "    }\n",
              "\n",
              "    .dataframe thead th {\n",
              "        text-align: right;\n",
              "    }\n",
              "</style>\n",
              "<table border=\"1\" class=\"dataframe\">\n",
              "  <thead>\n",
              "    <tr style=\"text-align: right;\">\n",
              "      <th></th>\n",
              "      <th>id</th>\n",
              "      <th>MLM</th>\n",
              "      <th>HLM</th>\n",
              "    </tr>\n",
              "  </thead>\n",
              "  <tbody>\n",
              "    <tr>\n",
              "      <th>0</th>\n",
              "      <td>TEST_000</td>\n",
              "      <td>35.109707</td>\n",
              "      <td>55.458595</td>\n",
              "    </tr>\n",
              "    <tr>\n",
              "      <th>1</th>\n",
              "      <td>TEST_001</td>\n",
              "      <td>62.755409</td>\n",
              "      <td>78.131699</td>\n",
              "    </tr>\n",
              "    <tr>\n",
              "      <th>2</th>\n",
              "      <td>TEST_002</td>\n",
              "      <td>32.409981</td>\n",
              "      <td>51.351883</td>\n",
              "    </tr>\n",
              "    <tr>\n",
              "      <th>3</th>\n",
              "      <td>TEST_003</td>\n",
              "      <td>49.007805</td>\n",
              "      <td>72.901367</td>\n",
              "    </tr>\n",
              "    <tr>\n",
              "      <th>4</th>\n",
              "      <td>TEST_004</td>\n",
              "      <td>66.780151</td>\n",
              "      <td>73.831650</td>\n",
              "    </tr>\n",
              "    <tr>\n",
              "      <th>...</th>\n",
              "      <td>...</td>\n",
              "      <td>...</td>\n",
              "      <td>...</td>\n",
              "    </tr>\n",
              "    <tr>\n",
              "      <th>478</th>\n",
              "      <td>TEST_478</td>\n",
              "      <td>17.590660</td>\n",
              "      <td>46.155415</td>\n",
              "    </tr>\n",
              "    <tr>\n",
              "      <th>479</th>\n",
              "      <td>TEST_479</td>\n",
              "      <td>66.138695</td>\n",
              "      <td>76.614990</td>\n",
              "    </tr>\n",
              "    <tr>\n",
              "      <th>480</th>\n",
              "      <td>TEST_480</td>\n",
              "      <td>52.756939</td>\n",
              "      <td>69.760910</td>\n",
              "    </tr>\n",
              "    <tr>\n",
              "      <th>481</th>\n",
              "      <td>TEST_481</td>\n",
              "      <td>59.686226</td>\n",
              "      <td>75.082214</td>\n",
              "    </tr>\n",
              "    <tr>\n",
              "      <th>482</th>\n",
              "      <td>TEST_482</td>\n",
              "      <td>28.188917</td>\n",
              "      <td>59.361084</td>\n",
              "    </tr>\n",
              "  </tbody>\n",
              "</table>\n",
              "<p>483 rows × 3 columns</p>\n",
              "</div>"
            ],
            "text/plain": [
              "           id        MLM        HLM\n",
              "0    TEST_000  35.109707  55.458595\n",
              "1    TEST_001  62.755409  78.131699\n",
              "2    TEST_002  32.409981  51.351883\n",
              "3    TEST_003  49.007805  72.901367\n",
              "4    TEST_004  66.780151  73.831650\n",
              "..        ...        ...        ...\n",
              "478  TEST_478  17.590660  46.155415\n",
              "479  TEST_479  66.138695  76.614990\n",
              "480  TEST_480  52.756939  69.760910\n",
              "481  TEST_481  59.686226  75.082214\n",
              "482  TEST_482  28.188917  59.361084\n",
              "\n",
              "[483 rows x 3 columns]"
            ]
          },
          "execution_count": 24,
          "metadata": {},
          "output_type": "execute_result"
        }
      ],
      "source": [
        "submission"
      ]
    }
  ],
  "metadata": {
    "colab": {
      "private_outputs": true,
      "provenance": []
    },
    "kernelspec": {
      "display_name": "Python 3",
      "name": "python3"
    },
    "language_info": {
      "codemirror_mode": {
        "name": "ipython",
        "version": 3
      },
      "file_extension": ".py",
      "mimetype": "text/x-python",
      "name": "python",
      "nbconvert_exporter": "python",
      "pygments_lexer": "ipython3",
      "version": "3.10.12"
    }
  },
  "nbformat": 4,
  "nbformat_minor": 0
}
