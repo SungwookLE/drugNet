{
  "cells": [
    {
      "cell_type": "code",
      "execution_count": 1,
      "metadata": {
        "id": "ZR5qZNqUQVEP"
      },
      "outputs": [],
      "source": [
        "import pandas as pd\n",
        "from rdkit import Chem\n",
        "from rdkit.Chem import Descriptors\n",
        "import numpy as np"
      ]
    },
    {
      "cell_type": "code",
      "execution_count": 2,
      "metadata": {
        "id": "IwCBd9TfX7Od"
      },
      "outputs": [],
      "source": [
        "def getMolDescriptors(mol, missingVal=None):\n",
        "    ''' calculate the full list of descriptors for a molecule\n",
        "\n",
        "        missingVal is used if the descriptor cannot be calculated\n",
        "    '''\n",
        "    res = {}\n",
        "    for nm,fn in Descriptors._descList:\n",
        "        # some of the descriptor fucntions can throw errors if they fail, catch those here:\n",
        "        try:\n",
        "            val = fn(mol)\n",
        "        except:\n",
        "            # print the error message:\n",
        "            import traceback\n",
        "            traceback.print_exc()\n",
        "            # and set the descriptor value to whatever missingVal is\n",
        "            val = missingVal\n",
        "        res[nm] = val\n",
        "    return res"
      ]
    },
    {
      "cell_type": "code",
      "execution_count": 3,
      "metadata": {
        "id": "vPP0gC28YU5m"
      },
      "outputs": [],
      "source": [
        "#데이터 로드 & 결측치 처리\n",
        "train = pd.read_csv('../input/train.csv')\n",
        "train['AlogP'] = np.where(pd.isna(train['AlogP']), train['LogD'], train['AlogP'])\n",
        "test = pd.read_csv('../input/test.csv')\n",
        "test['AlogP'] = np.where(pd.isna(test['AlogP']), test['LogD'], test['LogD'])"
      ]
    },
    {
      "cell_type": "code",
      "execution_count": 4,
      "metadata": {
        "id": "YIMsVUh2Y4xM"
      },
      "outputs": [],
      "source": [
        "train['Molecule'] = train['SMILES'].apply(Chem.MolFromSmiles)\n",
        "test['Molecule'] = test['SMILES'].apply(Chem.MolFromSmiles)"
      ]
    },
    {
      "cell_type": "code",
      "execution_count": 5,
      "metadata": {
        "id": "ViOu8MsHaARM"
      },
      "outputs": [],
      "source": [
        "train.drop_duplicates(['SMILES'], keep=False, inplace=True)\n",
        "train.reset_index(drop=True,inplace=True)"
      ]
    },
    {
      "cell_type": "code",
      "execution_count": 6,
      "metadata": {
        "id": "4YcFi-N3ZPa4"
      },
      "outputs": [],
      "source": [
        "train_dsc = [getMolDescriptors(mol) for mol in train['Molecule']]\n",
        "test_dsc = [getMolDescriptors(mol) for mol in test['Molecule']]"
      ]
    },
    {
      "cell_type": "code",
      "execution_count": 7,
      "metadata": {
        "id": "q1Ggk4_fbIA-"
      },
      "outputs": [],
      "source": [
        "# drop_col = ['AlogP', 'Molecule', 'MolWt', 'NumHAcceptors', 'NumHDonors', 'NumRotatableBonds', 'MolLogP']\n",
        "# drop_col = ['AlogP','Molecule','Molecular_Weight','Num_H_Acceptors','Num_H_Donors','Num_RotatableBonds','MolLogP']\n",
        "drop_col = ['AlogP','Molecule','Molecular_Weight','Num_H_Acceptors','Num_H_Donors','Num_RotatableBonds']"
      ]
    },
    {
      "cell_type": "code",
      "execution_count": 8,
      "metadata": {
        "id": "5DtoF5jca2vg"
      },
      "outputs": [],
      "source": [
        "train_dsc = pd.DataFrame(train_dsc)\n",
        "test_dsc = pd.DataFrame(test_dsc)"
      ]
    },
    {
      "cell_type": "code",
      "execution_count": 9,
      "metadata": {
        "id": "9O-MVKAfi_vm"
      },
      "outputs": [],
      "source": [
        "train_data = pd.concat([train, train_dsc], axis=1)\n",
        "test_data = pd.concat([test, test_dsc], axis=1)"
      ]
    },
    {
      "cell_type": "code",
      "execution_count": 10,
      "metadata": {
        "colab": {
          "base_uri": "https://localhost:8080/",
          "height": 196
        },
        "id": "kEgt-XcV4Ztt",
        "outputId": "4e6e865d-9c05-44ce-d287-268992e47115"
      },
      "outputs": [
        {
          "data": {
            "text/html": [
              "<div>\n",
              "<style scoped>\n",
              "    .dataframe tbody tr th:only-of-type {\n",
              "        vertical-align: middle;\n",
              "    }\n",
              "\n",
              "    .dataframe tbody tr th {\n",
              "        vertical-align: top;\n",
              "    }\n",
              "\n",
              "    .dataframe thead th {\n",
              "        text-align: right;\n",
              "    }\n",
              "</style>\n",
              "<table border=\"1\" class=\"dataframe\">\n",
              "  <thead>\n",
              "    <tr style=\"text-align: right;\">\n",
              "      <th></th>\n",
              "      <th>id</th>\n",
              "      <th>SMILES</th>\n",
              "      <th>MLM</th>\n",
              "      <th>HLM</th>\n",
              "      <th>AlogP</th>\n",
              "      <th>Molecular_Weight</th>\n",
              "      <th>Num_H_Acceptors</th>\n",
              "      <th>Num_H_Donors</th>\n",
              "      <th>Num_RotatableBonds</th>\n",
              "      <th>LogD</th>\n",
              "      <th>...</th>\n",
              "      <th>fr_sulfide</th>\n",
              "      <th>fr_sulfonamd</th>\n",
              "      <th>fr_sulfone</th>\n",
              "      <th>fr_term_acetylene</th>\n",
              "      <th>fr_tetrazole</th>\n",
              "      <th>fr_thiazole</th>\n",
              "      <th>fr_thiocyan</th>\n",
              "      <th>fr_thiophene</th>\n",
              "      <th>fr_unbrch_alkane</th>\n",
              "      <th>fr_urea</th>\n",
              "    </tr>\n",
              "  </thead>\n",
              "  <tbody>\n",
              "    <tr>\n",
              "      <th>986</th>\n",
              "      <td>TRAIN_1000</td>\n",
              "      <td>O=c1c2ccccc2[se]n1-c1ccc(S(=O)(=O)Nc2ccccn2)cc1</td>\n",
              "      <td>31.223</td>\n",
              "      <td>43.963</td>\n",
              "      <td>3.103</td>\n",
              "      <td>430.339</td>\n",
              "      <td>4</td>\n",
              "      <td>1</td>\n",
              "      <td>4</td>\n",
              "      <td>3.126</td>\n",
              "      <td>...</td>\n",
              "      <td>0</td>\n",
              "      <td>1</td>\n",
              "      <td>0</td>\n",
              "      <td>0</td>\n",
              "      <td>0</td>\n",
              "      <td>0</td>\n",
              "      <td>0</td>\n",
              "      <td>0</td>\n",
              "      <td>0</td>\n",
              "      <td>0</td>\n",
              "    </tr>\n",
              "    <tr>\n",
              "      <th>1380</th>\n",
              "      <td>TRAIN_1399</td>\n",
              "      <td>Brc1cnc2n[se]nc2c1</td>\n",
              "      <td>91.192</td>\n",
              "      <td>99.900</td>\n",
              "      <td>1.820</td>\n",
              "      <td>262.953</td>\n",
              "      <td>3</td>\n",
              "      <td>0</td>\n",
              "      <td>0</td>\n",
              "      <td>1.820</td>\n",
              "      <td>...</td>\n",
              "      <td>0</td>\n",
              "      <td>0</td>\n",
              "      <td>0</td>\n",
              "      <td>0</td>\n",
              "      <td>0</td>\n",
              "      <td>0</td>\n",
              "      <td>0</td>\n",
              "      <td>0</td>\n",
              "      <td>0</td>\n",
              "      <td>0</td>\n",
              "    </tr>\n",
              "  </tbody>\n",
              "</table>\n",
              "<p>2 rows × 221 columns</p>\n",
              "</div>"
            ],
            "text/plain": [
              "              id                                           SMILES     MLM  \\\n",
              "986   TRAIN_1000  O=c1c2ccccc2[se]n1-c1ccc(S(=O)(=O)Nc2ccccn2)cc1  31.223   \n",
              "1380  TRAIN_1399                               Brc1cnc2n[se]nc2c1  91.192   \n",
              "\n",
              "         HLM  AlogP  Molecular_Weight  Num_H_Acceptors  Num_H_Donors  \\\n",
              "986   43.963  3.103           430.339                4             1   \n",
              "1380  99.900  1.820           262.953                3             0   \n",
              "\n",
              "      Num_RotatableBonds   LogD  ...  fr_sulfide fr_sulfonamd  fr_sulfone  \\\n",
              "986                    4  3.126  ...           0            1           0   \n",
              "1380                   0  1.820  ...           0            0           0   \n",
              "\n",
              "      fr_term_acetylene  fr_tetrazole  fr_thiazole  fr_thiocyan  fr_thiophene  \\\n",
              "986                   0             0            0            0             0   \n",
              "1380                  0             0            0            0             0   \n",
              "\n",
              "      fr_unbrch_alkane  fr_urea  \n",
              "986                  0        0  \n",
              "1380                 0        0  \n",
              "\n",
              "[2 rows x 221 columns]"
            ]
          },
          "execution_count": 10,
          "metadata": {},
          "output_type": "execute_result"
        }
      ],
      "source": [
        "train_data[train_data.isnull().any(axis=1)]"
      ]
    },
    {
      "cell_type": "code",
      "execution_count": 11,
      "metadata": {
        "id": "54Le4DDS3yds"
      },
      "outputs": [],
      "source": [
        "train_data = train_data.dropna(axis=0).reset_index(drop=True)"
      ]
    },
    {
      "cell_type": "code",
      "execution_count": 12,
      "metadata": {
        "id": "aWBT5R9Rkl9y"
      },
      "outputs": [],
      "source": [
        "from sklearn.model_selection import train_test_split\n",
        "from sklearn.preprocessing import MinMaxScaler"
      ]
    },
    {
      "cell_type": "code",
      "execution_count": 13,
      "metadata": {
        "id": "0jaKwoFUk3m2"
      },
      "outputs": [],
      "source": [
        "scaler = MinMaxScaler()\n",
        "col = ['id','SMILES', 'MLM','HLM','Molecule']\n",
        "col_list = [colum for colum in train_data.columns if colum not in col]"
      ]
    },
    {
      "cell_type": "code",
      "execution_count": 14,
      "metadata": {
        "id": "QmoRnpjIlw0u"
      },
      "outputs": [],
      "source": [
        "train_data[col_list] = scaler.fit_transform(train_data[col_list])\n",
        "test_data[col_list] = scaler.transform(test_data[col_list])"
      ]
    },
    {
      "cell_type": "code",
      "execution_count": 15,
      "metadata": {
        "id": "fXakauw_m2fa"
      },
      "outputs": [],
      "source": [
        "drop_col = ['id','SMILES','Molecule','AlogP','Molecule','Molecular_Weight','Num_H_Acceptors','Num_H_Donors','Num_RotatableBonds']\n",
        "target = ['HLM','MLM']"
      ]
    },
    {
      "cell_type": "markdown",
      "metadata": {},
      "source": [
        "---\n",
        "Split out the code: taking the pre-processed dataframe"
      ]
    },
    {
      "cell_type": "code",
      "execution_count": 16,
      "metadata": {},
      "outputs": [],
      "source": [
        "train_df = train_data.drop(columns = drop_col,axis = 1 )\n",
        "test_df = test_data.drop(columns = drop_col, axis = 1)"
      ]
    },
    {
      "cell_type": "code",
      "execution_count": 17,
      "metadata": {},
      "outputs": [
        {
          "data": {
            "text/html": [
              "<div>\n",
              "<style scoped>\n",
              "    .dataframe tbody tr th:only-of-type {\n",
              "        vertical-align: middle;\n",
              "    }\n",
              "\n",
              "    .dataframe tbody tr th {\n",
              "        vertical-align: top;\n",
              "    }\n",
              "\n",
              "    .dataframe thead th {\n",
              "        text-align: right;\n",
              "    }\n",
              "</style>\n",
              "<table border=\"1\" class=\"dataframe\">\n",
              "  <thead>\n",
              "    <tr style=\"text-align: right;\">\n",
              "      <th></th>\n",
              "      <th>MLM</th>\n",
              "      <th>HLM</th>\n",
              "      <th>LogD</th>\n",
              "      <th>Molecular_PolarSurfaceArea</th>\n",
              "      <th>MaxAbsEStateIndex</th>\n",
              "      <th>MaxEStateIndex</th>\n",
              "      <th>MinAbsEStateIndex</th>\n",
              "      <th>MinEStateIndex</th>\n",
              "      <th>qed</th>\n",
              "      <th>MolWt</th>\n",
              "      <th>...</th>\n",
              "      <th>fr_sulfide</th>\n",
              "      <th>fr_sulfonamd</th>\n",
              "      <th>fr_sulfone</th>\n",
              "      <th>fr_term_acetylene</th>\n",
              "      <th>fr_tetrazole</th>\n",
              "      <th>fr_thiazole</th>\n",
              "      <th>fr_thiocyan</th>\n",
              "      <th>fr_thiophene</th>\n",
              "      <th>fr_unbrch_alkane</th>\n",
              "      <th>fr_urea</th>\n",
              "    </tr>\n",
              "  </thead>\n",
              "  <tbody>\n",
              "    <tr>\n",
              "      <th>0</th>\n",
              "      <td>26.010</td>\n",
              "      <td>50.680</td>\n",
              "      <td>0.579660</td>\n",
              "      <td>0.389270</td>\n",
              "      <td>0.696343</td>\n",
              "      <td>0.696343</td>\n",
              "      <td>0.184646</td>\n",
              "      <td>0.803121</td>\n",
              "      <td>0.627006</td>\n",
              "      <td>0.192140</td>\n",
              "      <td>...</td>\n",
              "      <td>0.0</td>\n",
              "      <td>0.000000</td>\n",
              "      <td>0.0</td>\n",
              "      <td>0.0</td>\n",
              "      <td>0.0</td>\n",
              "      <td>0.5</td>\n",
              "      <td>0.0</td>\n",
              "      <td>0.0</td>\n",
              "      <td>0.0</td>\n",
              "      <td>0.0</td>\n",
              "    </tr>\n",
              "    <tr>\n",
              "      <th>1</th>\n",
              "      <td>29.270</td>\n",
              "      <td>50.590</td>\n",
              "      <td>0.502622</td>\n",
              "      <td>0.239538</td>\n",
              "      <td>0.669702</td>\n",
              "      <td>0.669702</td>\n",
              "      <td>0.029993</td>\n",
              "      <td>0.828822</td>\n",
              "      <td>0.975653</td>\n",
              "      <td>0.108753</td>\n",
              "      <td>...</td>\n",
              "      <td>0.0</td>\n",
              "      <td>0.000000</td>\n",
              "      <td>0.0</td>\n",
              "      <td>0.0</td>\n",
              "      <td>0.0</td>\n",
              "      <td>0.5</td>\n",
              "      <td>0.0</td>\n",
              "      <td>0.0</td>\n",
              "      <td>0.0</td>\n",
              "      <td>0.0</td>\n",
              "    </tr>\n",
              "    <tr>\n",
              "      <th>2</th>\n",
              "      <td>5.586</td>\n",
              "      <td>80.892</td>\n",
              "      <td>0.461021</td>\n",
              "      <td>0.201951</td>\n",
              "      <td>0.152663</td>\n",
              "      <td>0.152663</td>\n",
              "      <td>0.602919</td>\n",
              "      <td>0.934010</td>\n",
              "      <td>0.760547</td>\n",
              "      <td>0.105346</td>\n",
              "      <td>...</td>\n",
              "      <td>0.0</td>\n",
              "      <td>0.000000</td>\n",
              "      <td>0.0</td>\n",
              "      <td>0.0</td>\n",
              "      <td>1.0</td>\n",
              "      <td>0.0</td>\n",
              "      <td>0.0</td>\n",
              "      <td>0.0</td>\n",
              "      <td>0.0</td>\n",
              "      <td>0.0</td>\n",
              "    </tr>\n",
              "    <tr>\n",
              "      <th>3</th>\n",
              "      <td>5.710</td>\n",
              "      <td>2.000</td>\n",
              "      <td>0.594968</td>\n",
              "      <td>0.304785</td>\n",
              "      <td>0.776741</td>\n",
              "      <td>0.776741</td>\n",
              "      <td>0.241502</td>\n",
              "      <td>0.320881</td>\n",
              "      <td>0.558604</td>\n",
              "      <td>0.271380</td>\n",
              "      <td>...</td>\n",
              "      <td>0.0</td>\n",
              "      <td>0.333333</td>\n",
              "      <td>0.0</td>\n",
              "      <td>0.0</td>\n",
              "      <td>0.0</td>\n",
              "      <td>0.0</td>\n",
              "      <td>0.0</td>\n",
              "      <td>0.0</td>\n",
              "      <td>0.0</td>\n",
              "      <td>0.0</td>\n",
              "    </tr>\n",
              "    <tr>\n",
              "      <th>4</th>\n",
              "      <td>93.270</td>\n",
              "      <td>99.990</td>\n",
              "      <td>0.514316</td>\n",
              "      <td>0.133668</td>\n",
              "      <td>0.708802</td>\n",
              "      <td>0.708802</td>\n",
              "      <td>0.014885</td>\n",
              "      <td>0.831125</td>\n",
              "      <td>0.840289</td>\n",
              "      <td>0.080899</td>\n",
              "      <td>...</td>\n",
              "      <td>0.0</td>\n",
              "      <td>0.000000</td>\n",
              "      <td>0.0</td>\n",
              "      <td>0.0</td>\n",
              "      <td>0.0</td>\n",
              "      <td>0.0</td>\n",
              "      <td>0.0</td>\n",
              "      <td>0.0</td>\n",
              "      <td>0.0</td>\n",
              "      <td>0.0</td>\n",
              "    </tr>\n",
              "  </tbody>\n",
              "</table>\n",
              "<p>5 rows × 213 columns</p>\n",
              "</div>"
            ],
            "text/plain": [
              "      MLM     HLM      LogD  Molecular_PolarSurfaceArea  MaxAbsEStateIndex  \\\n",
              "0  26.010  50.680  0.579660                    0.389270           0.696343   \n",
              "1  29.270  50.590  0.502622                    0.239538           0.669702   \n",
              "2   5.586  80.892  0.461021                    0.201951           0.152663   \n",
              "3   5.710   2.000  0.594968                    0.304785           0.776741   \n",
              "4  93.270  99.990  0.514316                    0.133668           0.708802   \n",
              "\n",
              "   MaxEStateIndex  MinAbsEStateIndex  MinEStateIndex       qed     MolWt  ...  \\\n",
              "0        0.696343           0.184646        0.803121  0.627006  0.192140  ...   \n",
              "1        0.669702           0.029993        0.828822  0.975653  0.108753  ...   \n",
              "2        0.152663           0.602919        0.934010  0.760547  0.105346  ...   \n",
              "3        0.776741           0.241502        0.320881  0.558604  0.271380  ...   \n",
              "4        0.708802           0.014885        0.831125  0.840289  0.080899  ...   \n",
              "\n",
              "   fr_sulfide  fr_sulfonamd  fr_sulfone  fr_term_acetylene  fr_tetrazole  \\\n",
              "0         0.0      0.000000         0.0                0.0           0.0   \n",
              "1         0.0      0.000000         0.0                0.0           0.0   \n",
              "2         0.0      0.000000         0.0                0.0           1.0   \n",
              "3         0.0      0.333333         0.0                0.0           0.0   \n",
              "4         0.0      0.000000         0.0                0.0           0.0   \n",
              "\n",
              "   fr_thiazole  fr_thiocyan  fr_thiophene  fr_unbrch_alkane  fr_urea  \n",
              "0          0.5          0.0           0.0               0.0      0.0  \n",
              "1          0.5          0.0           0.0               0.0      0.0  \n",
              "2          0.0          0.0           0.0               0.0      0.0  \n",
              "3          0.0          0.0           0.0               0.0      0.0  \n",
              "4          0.0          0.0           0.0               0.0      0.0  \n",
              "\n",
              "[5 rows x 213 columns]"
            ]
          },
          "execution_count": 17,
          "metadata": {},
          "output_type": "execute_result"
        }
      ],
      "source": [
        "train_df.head()"
      ]
    },
    {
      "cell_type": "code",
      "execution_count": 18,
      "metadata": {},
      "outputs": [
        {
          "data": {
            "text/html": [
              "<div>\n",
              "<style scoped>\n",
              "    .dataframe tbody tr th:only-of-type {\n",
              "        vertical-align: middle;\n",
              "    }\n",
              "\n",
              "    .dataframe tbody tr th {\n",
              "        vertical-align: top;\n",
              "    }\n",
              "\n",
              "    .dataframe thead th {\n",
              "        text-align: right;\n",
              "    }\n",
              "</style>\n",
              "<table border=\"1\" class=\"dataframe\">\n",
              "  <thead>\n",
              "    <tr style=\"text-align: right;\">\n",
              "      <th></th>\n",
              "      <th>LogD</th>\n",
              "      <th>Molecular_PolarSurfaceArea</th>\n",
              "      <th>MaxAbsEStateIndex</th>\n",
              "      <th>MaxEStateIndex</th>\n",
              "      <th>MinAbsEStateIndex</th>\n",
              "      <th>MinEStateIndex</th>\n",
              "      <th>qed</th>\n",
              "      <th>MolWt</th>\n",
              "      <th>HeavyAtomMolWt</th>\n",
              "      <th>ExactMolWt</th>\n",
              "      <th>...</th>\n",
              "      <th>fr_sulfide</th>\n",
              "      <th>fr_sulfonamd</th>\n",
              "      <th>fr_sulfone</th>\n",
              "      <th>fr_term_acetylene</th>\n",
              "      <th>fr_tetrazole</th>\n",
              "      <th>fr_thiazole</th>\n",
              "      <th>fr_thiocyan</th>\n",
              "      <th>fr_thiophene</th>\n",
              "      <th>fr_unbrch_alkane</th>\n",
              "      <th>fr_urea</th>\n",
              "    </tr>\n",
              "  </thead>\n",
              "  <tbody>\n",
              "    <tr>\n",
              "      <th>0</th>\n",
              "      <td>0.535436</td>\n",
              "      <td>0.305331</td>\n",
              "      <td>0.487946</td>\n",
              "      <td>0.487946</td>\n",
              "      <td>0.172410</td>\n",
              "      <td>0.862465</td>\n",
              "      <td>0.830990</td>\n",
              "      <td>0.159330</td>\n",
              "      <td>0.153919</td>\n",
              "      <td>0.159263</td>\n",
              "      <td>...</td>\n",
              "      <td>0.0</td>\n",
              "      <td>0.0</td>\n",
              "      <td>0.0</td>\n",
              "      <td>0.0</td>\n",
              "      <td>0.0</td>\n",
              "      <td>0.0</td>\n",
              "      <td>0.0</td>\n",
              "      <td>0.5</td>\n",
              "      <td>0.0</td>\n",
              "      <td>0.0</td>\n",
              "    </tr>\n",
              "    <tr>\n",
              "      <th>1</th>\n",
              "      <td>0.390149</td>\n",
              "      <td>0.221938</td>\n",
              "      <td>0.741037</td>\n",
              "      <td>0.741037</td>\n",
              "      <td>0.137684</td>\n",
              "      <td>0.758096</td>\n",
              "      <td>0.868162</td>\n",
              "      <td>0.166811</td>\n",
              "      <td>0.166518</td>\n",
              "      <td>0.166807</td>\n",
              "      <td>...</td>\n",
              "      <td>0.0</td>\n",
              "      <td>0.0</td>\n",
              "      <td>0.0</td>\n",
              "      <td>0.0</td>\n",
              "      <td>0.0</td>\n",
              "      <td>0.0</td>\n",
              "      <td>0.0</td>\n",
              "      <td>0.0</td>\n",
              "      <td>0.0</td>\n",
              "      <td>0.0</td>\n",
              "    </tr>\n",
              "    <tr>\n",
              "      <th>2</th>\n",
              "      <td>0.652729</td>\n",
              "      <td>0.305672</td>\n",
              "      <td>0.544276</td>\n",
              "      <td>0.544276</td>\n",
              "      <td>0.051763</td>\n",
              "      <td>0.823021</td>\n",
              "      <td>0.448666</td>\n",
              "      <td>0.147470</td>\n",
              "      <td>0.146643</td>\n",
              "      <td>0.147459</td>\n",
              "      <td>...</td>\n",
              "      <td>0.0</td>\n",
              "      <td>0.0</td>\n",
              "      <td>0.0</td>\n",
              "      <td>0.0</td>\n",
              "      <td>0.0</td>\n",
              "      <td>0.0</td>\n",
              "      <td>0.0</td>\n",
              "      <td>0.0</td>\n",
              "      <td>0.0</td>\n",
              "      <td>0.0</td>\n",
              "    </tr>\n",
              "    <tr>\n",
              "      <th>3</th>\n",
              "      <td>0.475904</td>\n",
              "      <td>0.265937</td>\n",
              "      <td>0.731173</td>\n",
              "      <td>0.731173</td>\n",
              "      <td>0.106940</td>\n",
              "      <td>0.796889</td>\n",
              "      <td>0.580201</td>\n",
              "      <td>0.145740</td>\n",
              "      <td>0.150253</td>\n",
              "      <td>0.145740</td>\n",
              "      <td>...</td>\n",
              "      <td>0.0</td>\n",
              "      <td>0.0</td>\n",
              "      <td>0.0</td>\n",
              "      <td>0.0</td>\n",
              "      <td>0.0</td>\n",
              "      <td>0.0</td>\n",
              "      <td>0.0</td>\n",
              "      <td>0.0</td>\n",
              "      <td>0.0</td>\n",
              "      <td>0.0</td>\n",
              "    </tr>\n",
              "    <tr>\n",
              "      <th>4</th>\n",
              "      <td>0.360666</td>\n",
              "      <td>0.197517</td>\n",
              "      <td>0.731834</td>\n",
              "      <td>0.731834</td>\n",
              "      <td>0.030648</td>\n",
              "      <td>0.814153</td>\n",
              "      <td>0.730907</td>\n",
              "      <td>0.152522</td>\n",
              "      <td>0.150249</td>\n",
              "      <td>0.152520</td>\n",
              "      <td>...</td>\n",
              "      <td>0.0</td>\n",
              "      <td>0.0</td>\n",
              "      <td>0.0</td>\n",
              "      <td>0.0</td>\n",
              "      <td>0.0</td>\n",
              "      <td>0.0</td>\n",
              "      <td>0.0</td>\n",
              "      <td>0.0</td>\n",
              "      <td>0.0</td>\n",
              "      <td>0.0</td>\n",
              "    </tr>\n",
              "  </tbody>\n",
              "</table>\n",
              "<p>5 rows × 211 columns</p>\n",
              "</div>"
            ],
            "text/plain": [
              "       LogD  Molecular_PolarSurfaceArea  MaxAbsEStateIndex  MaxEStateIndex  \\\n",
              "0  0.535436                    0.305331           0.487946        0.487946   \n",
              "1  0.390149                    0.221938           0.741037        0.741037   \n",
              "2  0.652729                    0.305672           0.544276        0.544276   \n",
              "3  0.475904                    0.265937           0.731173        0.731173   \n",
              "4  0.360666                    0.197517           0.731834        0.731834   \n",
              "\n",
              "   MinAbsEStateIndex  MinEStateIndex       qed     MolWt  HeavyAtomMolWt  \\\n",
              "0           0.172410        0.862465  0.830990  0.159330        0.153919   \n",
              "1           0.137684        0.758096  0.868162  0.166811        0.166518   \n",
              "2           0.051763        0.823021  0.448666  0.147470        0.146643   \n",
              "3           0.106940        0.796889  0.580201  0.145740        0.150253   \n",
              "4           0.030648        0.814153  0.730907  0.152522        0.150249   \n",
              "\n",
              "   ExactMolWt  ...  fr_sulfide  fr_sulfonamd  fr_sulfone  fr_term_acetylene  \\\n",
              "0    0.159263  ...         0.0           0.0         0.0                0.0   \n",
              "1    0.166807  ...         0.0           0.0         0.0                0.0   \n",
              "2    0.147459  ...         0.0           0.0         0.0                0.0   \n",
              "3    0.145740  ...         0.0           0.0         0.0                0.0   \n",
              "4    0.152520  ...         0.0           0.0         0.0                0.0   \n",
              "\n",
              "   fr_tetrazole  fr_thiazole  fr_thiocyan  fr_thiophene  fr_unbrch_alkane  \\\n",
              "0           0.0          0.0          0.0           0.5               0.0   \n",
              "1           0.0          0.0          0.0           0.0               0.0   \n",
              "2           0.0          0.0          0.0           0.0               0.0   \n",
              "3           0.0          0.0          0.0           0.0               0.0   \n",
              "4           0.0          0.0          0.0           0.0               0.0   \n",
              "\n",
              "   fr_urea  \n",
              "0      0.0  \n",
              "1      0.0  \n",
              "2      0.0  \n",
              "3      0.0  \n",
              "4      0.0  \n",
              "\n",
              "[5 rows x 211 columns]"
            ]
          },
          "execution_count": 18,
          "metadata": {},
          "output_type": "execute_result"
        }
      ],
      "source": [
        "test_df.head()"
      ]
    },
    {
      "cell_type": "code",
      "execution_count": null,
      "metadata": {},
      "outputs": [],
      "source": [
        "train_df.to_csv(\"../input/train_descriptor.csv\", index=False)\n",
        "test_df.to_csv(\"../input/test_descriptor.csv\", index=False)\n"
      ]
    },
    {
      "cell_type": "code",
      "execution_count": 19,
      "metadata": {
        "id": "7tHX10rzlx0e"
      },
      "outputs": [],
      "source": [
        "HLM = train_data['HLM']\n",
        "MLM = train_data['MLM']\n",
        "train_df = train_data.drop(columns = drop_col,axis = 1 )\n",
        "train_df = train_df.drop(columns = target, axis = 1)\n",
        "test_df = test_data.drop(columns = drop_col, axis = 1)"
      ]
    },
    {
      "cell_type": "code",
      "execution_count": 20,
      "metadata": {
        "id": "RD1uKP-XmU9Y"
      },
      "outputs": [],
      "source": [
        "from torch.utils.data import Dataset, DataLoader\n",
        "import torch\n",
        "class CustomDataset(Dataset):\n",
        "  def __init__(self, df, target=None, is_test=False):\n",
        "    self.df = df\n",
        "    self.is_test = is_test\n",
        "    if not self.is_test:\n",
        "      self.target = target\n",
        "    self.features = self.df.values\n",
        "  def __len__(self):\n",
        "    return len(self.df)\n",
        "\n",
        "  def __getitem__(self, idx):\n",
        "    ft = self.features[idx]\n",
        "    if not self.is_test:\n",
        "      label = self.target[idx]\n",
        "      return torch.tensor(ft).float(), torch.tensor(label).float().unsqueeze(dim=-1)\n",
        "    else:\n",
        "      return torch.tensor(ft).float()"
      ]
    },
    {
      "cell_type": "code",
      "execution_count": 21,
      "metadata": {
        "id": "2698BcLZnalU"
      },
      "outputs": [],
      "source": [
        "train_HLM = CustomDataset(train_df, HLM)\n",
        "train_MLM = CustomDataset(train_df, MLM)"
      ]
    },
    {
      "cell_type": "code",
      "execution_count": 22,
      "metadata": {
        "id": "QR-yi_RJYqRx"
      },
      "outputs": [],
      "source": [
        "test_HLM = CustomDataset(df = test_df,target=None,is_test=True)\n",
        "test_MLM = CustomDataset(df = test_df,target=None,is_test=True)\n",
        "test_HLM_loader = DataLoader(dataset=test_HLM,batch_size=64,shuffle=False)\n",
        "test_MLM_loader = DataLoader(dataset=test_MLM,batch_size=64,shuffle=False)"
      ]
    },
    {
      "cell_type": "code",
      "execution_count": 23,
      "metadata": {
        "id": "4jHHSriTuNdg"
      },
      "outputs": [],
      "source": [
        "train_HLM_dataset, valid_HLM_dataset = train_test_split(train_HLM, test_size=0.2, random_state=42)\n",
        "train_MLM_dataset, valid_MLM_dataset = train_test_split(train_MLM, test_size=0.2, random_state=42)"
      ]
    },
    {
      "cell_type": "code",
      "execution_count": 24,
      "metadata": {
        "id": "eIi3ZEpJuNyl"
      },
      "outputs": [],
      "source": [
        "train_HLM_loader = DataLoader(dataset=train_HLM_dataset, batch_size = 256,shuffle=True)\n",
        "valid_HLM_loader = DataLoader(dataset=valid_HLM_dataset, batch_size = 256,shuffle=False)\n",
        "\n",
        "train_MLM_loader = DataLoader(dataset=train_MLM_dataset, batch_size = 256,shuffle=True)\n",
        "valid_MLM_loader = DataLoader(dataset=valid_MLM_dataset, batch_size = 256,shuffle=False)"
      ]
    },
    {
      "cell_type": "code",
      "execution_count": 25,
      "metadata": {
        "id": "lbU3uJmb8s5M"
      },
      "outputs": [],
      "source": [
        "input_size = train_HLM.features.shape[1]"
      ]
    },
    {
      "cell_type": "code",
      "execution_count": 26,
      "metadata": {
        "colab": {
          "base_uri": "https://localhost:8080/"
        },
        "id": "aMIhYL-U9e5L",
        "outputId": "e7c7450b-2431-4762-98df-3126fa7a5214"
      },
      "outputs": [
        {
          "data": {
            "text/plain": [
              "2753"
            ]
          },
          "execution_count": 26,
          "metadata": {},
          "output_type": "execute_result"
        }
      ],
      "source": [
        "len(train_HLM_dataset)"
      ]
    },
    {
      "cell_type": "code",
      "execution_count": 27,
      "metadata": {
        "id": "HlLxyoCz4rST"
      },
      "outputs": [],
      "source": [
        "import torch.nn as nn\n",
        "import torch.optim as optim"
      ]
    },
    {
      "cell_type": "code",
      "execution_count": 28,
      "metadata": {
        "id": "-cccF9Is2970"
      },
      "outputs": [],
      "source": [
        "class LinModel(nn.Module):\n",
        "  def __init__(self, input_size, dropout_rate):\n",
        "    super(LinModel, self).__init__()\n",
        "\n",
        "    self.fc1 = nn.Sequential(\n",
        "        nn.Linear(input_size, 256),\n",
        "        nn.ReLU(),\n",
        "        nn.BatchNorm1d(256),\n",
        "        nn.Dropout(dropout_rate)\n",
        "    )\n",
        "    self.fc2 = nn.Sequential(\n",
        "        nn.Linear(256, 1024),\n",
        "        nn.ReLU(),\n",
        "        nn.BatchNorm1d(1024),\n",
        "        nn.Dropout(dropout_rate)\n",
        "    )\n",
        "    self.fc3 = nn.Sequential(\n",
        "        nn.Linear(1024,512),\n",
        "        nn.ReLU(),\n",
        "        nn.BatchNorm1d(512),\n",
        "        nn.Dropout(dropout_rate)\n",
        "    )\n",
        "    self.fc4 = nn.Sequential(\n",
        "        nn.Linear(512, 256),\n",
        "        nn.ReLU(),\n",
        "        nn.BatchNorm1d(256),\n",
        "        nn.Dropout(dropout_rate)\n",
        "    )\n",
        "    self.fc5 = nn.Sequential(\n",
        "        nn.Linear(256, 128),\n",
        "        nn.ReLU(),\n",
        "        nn.BatchNorm1d(128)\n",
        "    )\n",
        "\n",
        "    self.out = nn.Linear(128,1)\n",
        "\n",
        "  def forward(self, x):\n",
        "    x = self.fc1(x)\n",
        "    x = self.fc2(x)\n",
        "    x = self.fc3(x)\n",
        "    x = self.fc4(x)\n",
        "    x = self.fc5(x)\n",
        "    x = self.out(x)\n",
        "    return x"
      ]
    },
    {
      "cell_type": "code",
      "execution_count": 29,
      "metadata": {
        "id": "j4zCHxfq8pHE"
      },
      "outputs": [],
      "source": [
        "model_HLM = LinModel(input_size, 0.2)\n",
        "model_MLM = LinModel(input_size, 0.2)"
      ]
    },
    {
      "cell_type": "code",
      "execution_count": 30,
      "metadata": {
        "id": "XTM_Mtfj8ceJ"
      },
      "outputs": [],
      "source": [
        "criterion = nn.MSELoss()\n",
        "optimizer_HLM = optim.AdamW(model_HLM.parameters(), lr=0.001)\n",
        "optimizer_MLM = optim.AdamW(model_MLM.parameters(), lr=0.001)"
      ]
    },
    {
      "cell_type": "code",
      "execution_count": 31,
      "metadata": {
        "id": "UkhdQxZh8OrR"
      },
      "outputs": [],
      "source": [
        "def train(train_loader, valid_loader, model, criterion, optimizer, epochs):\n",
        "    model.train()\n",
        "\n",
        "    for epoch in range(epochs):\n",
        "        running_loss = 0\n",
        "        for inputs, targets in train_loader:\n",
        "            optimizer.zero_grad()\n",
        "            output = model(inputs)\n",
        "            loss = criterion(output, targets)\n",
        "\n",
        "            loss.backward()\n",
        "            optimizer.step()\n",
        "\n",
        "            running_loss += loss.item()\n",
        "\n",
        "        if epoch % 100 == 0:\n",
        "            valid_loss = 0\n",
        "            with torch.no_grad():\n",
        "                for inputs, targets in valid_loader:\n",
        "                    output = model(inputs)\n",
        "                    loss = criterion(output, targets)\n",
        "                    valid_loss += loss.item()\n",
        "\n",
        "            print(f'Epoch: {epoch}/{epochs}, Train Loss: {running_loss/len(train_loader)}, Valid Loss: {valid_loss/len(valid_loader)}')\n",
        "            model.train()\n",
        "\n",
        "    return model"
      ]
    },
    {
      "cell_type": "code",
      "execution_count": 32,
      "metadata": {
        "colab": {
          "base_uri": "https://localhost:8080/"
        },
        "id": "FPIvOkRuVIKF",
        "outputId": "b15f77e2-5a00-41ae-ccb7-ef51639e1047"
      },
      "outputs": [
        {
          "name": "stdout",
          "output_type": "stream",
          "text": [
            "Training Start: HLM\n",
            "Epoch: 0/500, Train Loss: 4053.0500266335225, Valid Loss: 4134.94873046875\n",
            "Epoch: 100/500, Train Loss: 78.38030797784978, Valid Loss: 1503.505126953125\n",
            "Epoch: 200/500, Train Loss: 53.32106538252397, Valid Loss: 1654.6580810546875\n",
            "Epoch: 300/500, Train Loss: 59.037040363658555, Valid Loss: 1632.1141357421875\n",
            "Epoch: 400/500, Train Loss: 34.87889497930353, Valid Loss: 1606.3430989583333\n",
            "Training Start: MLM\n",
            "Epoch: 0/500, Train Loss: 2568.3782182173295, Valid Loss: 2700.8321940104165\n",
            "Epoch: 100/500, Train Loss: 77.79888638583097, Valid Loss: 1510.2305908203125\n",
            "Epoch: 200/500, Train Loss: 65.90286844426936, Valid Loss: 1476.4521077473958\n",
            "Epoch: 300/500, Train Loss: 33.457498203624375, Valid Loss: 1557.892822265625\n",
            "Epoch: 400/500, Train Loss: 31.386333638971504, Valid Loss: 1514.7577311197917\n"
          ]
        }
      ],
      "source": [
        "print(\"Training Start: HLM\")\n",
        "model_HLM = train(train_HLM_loader, valid_HLM_loader, model_HLM, criterion, optimizer_HLM, epochs=500)\n",
        "print(\"Training Start: MLM\")\n",
        "model_MLM = train(train_MLM_loader, valid_MLM_loader, model_MLM, criterion, optimizer_MLM, epochs=500)"
      ]
    },
    {
      "cell_type": "code",
      "execution_count": 33,
      "metadata": {
        "id": "1lLMg3iSVWW6"
      },
      "outputs": [],
      "source": [
        "def inference(test_loader, model):\n",
        "    model.eval()\n",
        "    preds = []\n",
        "\n",
        "    with torch.no_grad():\n",
        "        for inputs in test_loader:\n",
        "            output = model(inputs)\n",
        "            preds.extend(output.cpu().numpy().flatten().tolist())\n",
        "\n",
        "    return preds"
      ]
    },
    {
      "cell_type": "code",
      "execution_count": 34,
      "metadata": {
        "id": "RK20wVX4VYRx"
      },
      "outputs": [],
      "source": [
        "predictions_MLM = inference(test_MLM_loader,model_MLM)\n",
        "predictions_HLM = inference(test_HLM_loader,model_HLM)"
      ]
    },
    {
      "cell_type": "code",
      "execution_count": 36,
      "metadata": {
        "colab": {
          "base_uri": "https://localhost:8080/",
          "height": 424
        },
        "id": "nR9ECRh3Zv7l",
        "outputId": "a12821f5-6f30-4f4a-b1d9-3a45b874dbb0"
      },
      "outputs": [
        {
          "data": {
            "text/html": [
              "<div>\n",
              "<style scoped>\n",
              "    .dataframe tbody tr th:only-of-type {\n",
              "        vertical-align: middle;\n",
              "    }\n",
              "\n",
              "    .dataframe tbody tr th {\n",
              "        vertical-align: top;\n",
              "    }\n",
              "\n",
              "    .dataframe thead th {\n",
              "        text-align: right;\n",
              "    }\n",
              "</style>\n",
              "<table border=\"1\" class=\"dataframe\">\n",
              "  <thead>\n",
              "    <tr style=\"text-align: right;\">\n",
              "      <th></th>\n",
              "      <th>id</th>\n",
              "      <th>MLM</th>\n",
              "      <th>HLM</th>\n",
              "    </tr>\n",
              "  </thead>\n",
              "  <tbody>\n",
              "    <tr>\n",
              "      <th>0</th>\n",
              "      <td>TEST_000</td>\n",
              "      <td>13.487659</td>\n",
              "      <td>44.302662</td>\n",
              "    </tr>\n",
              "    <tr>\n",
              "      <th>1</th>\n",
              "      <td>TEST_001</td>\n",
              "      <td>79.915855</td>\n",
              "      <td>78.493149</td>\n",
              "    </tr>\n",
              "    <tr>\n",
              "      <th>2</th>\n",
              "      <td>TEST_002</td>\n",
              "      <td>3.403304</td>\n",
              "      <td>50.642715</td>\n",
              "    </tr>\n",
              "    <tr>\n",
              "      <th>3</th>\n",
              "      <td>TEST_003</td>\n",
              "      <td>78.031914</td>\n",
              "      <td>91.980125</td>\n",
              "    </tr>\n",
              "    <tr>\n",
              "      <th>4</th>\n",
              "      <td>TEST_004</td>\n",
              "      <td>72.422691</td>\n",
              "      <td>28.262505</td>\n",
              "    </tr>\n",
              "    <tr>\n",
              "      <th>...</th>\n",
              "      <td>...</td>\n",
              "      <td>...</td>\n",
              "      <td>...</td>\n",
              "    </tr>\n",
              "    <tr>\n",
              "      <th>478</th>\n",
              "      <td>TEST_478</td>\n",
              "      <td>22.854019</td>\n",
              "      <td>25.724598</td>\n",
              "    </tr>\n",
              "    <tr>\n",
              "      <th>479</th>\n",
              "      <td>TEST_479</td>\n",
              "      <td>86.857521</td>\n",
              "      <td>93.575180</td>\n",
              "    </tr>\n",
              "    <tr>\n",
              "      <th>480</th>\n",
              "      <td>TEST_480</td>\n",
              "      <td>18.096180</td>\n",
              "      <td>26.369389</td>\n",
              "    </tr>\n",
              "    <tr>\n",
              "      <th>481</th>\n",
              "      <td>TEST_481</td>\n",
              "      <td>16.308226</td>\n",
              "      <td>80.234985</td>\n",
              "    </tr>\n",
              "    <tr>\n",
              "      <th>482</th>\n",
              "      <td>TEST_482</td>\n",
              "      <td>0.834127</td>\n",
              "      <td>43.756588</td>\n",
              "    </tr>\n",
              "  </tbody>\n",
              "</table>\n",
              "<p>483 rows × 3 columns</p>\n",
              "</div>"
            ],
            "text/plain": [
              "           id        MLM        HLM\n",
              "0    TEST_000  13.487659  44.302662\n",
              "1    TEST_001  79.915855  78.493149\n",
              "2    TEST_002   3.403304  50.642715\n",
              "3    TEST_003  78.031914  91.980125\n",
              "4    TEST_004  72.422691  28.262505\n",
              "..        ...        ...        ...\n",
              "478  TEST_478  22.854019  25.724598\n",
              "479  TEST_479  86.857521  93.575180\n",
              "480  TEST_480  18.096180  26.369389\n",
              "481  TEST_481  16.308226  80.234985\n",
              "482  TEST_482   0.834127  43.756588\n",
              "\n",
              "[483 rows x 3 columns]"
            ]
          },
          "execution_count": 36,
          "metadata": {},
          "output_type": "execute_result"
        }
      ],
      "source": [
        "submission = pd.read_csv('../input/sample_submission.csv')\n",
        "submission['MLM'] = predictions_MLM\n",
        "submission['HLM'] = predictions_HLM\n",
        "submission"
      ]
    },
    {
      "cell_type": "code",
      "execution_count": null,
      "metadata": {},
      "outputs": [],
      "source": [
        "submission.to_csv(\"../output/subsub.csv\", index=False)"
      ]
    },
    {
      "cell_type": "code",
      "execution_count": null,
      "metadata": {},
      "outputs": [],
      "source": []
    }
  ],
  "metadata": {
    "accelerator": "GPU",
    "colab": {
      "gpuType": "T4",
      "provenance": []
    },
    "kernelspec": {
      "display_name": "Python 3",
      "name": "python3"
    },
    "language_info": {
      "codemirror_mode": {
        "name": "ipython",
        "version": 3
      },
      "file_extension": ".py",
      "mimetype": "text/x-python",
      "name": "python",
      "nbconvert_exporter": "python",
      "pygments_lexer": "ipython3",
      "version": "3.10.12"
    }
  },
  "nbformat": 4,
  "nbformat_minor": 0
}
